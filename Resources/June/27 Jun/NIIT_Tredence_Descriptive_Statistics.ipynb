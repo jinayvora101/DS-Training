{
  "cells": [
    {
      "cell_type": "markdown",
      "metadata": {
        "id": "7I1FYdnSPPLo"
      },
      "source": [
        "## Statistics\n",
        "\n",
        "- The discipline that concerns the collection, organization, analysis, interpretation, and presentation of data\n",
        "![alt text](https://sixsigmastudyguide.com/wp-content/uploads/2020/07/s2.png \"Types of Statistics\")"
      ]
    },
    {
      "cell_type": "markdown",
      "metadata": {
        "id": "onzW-EdyodAx"
      },
      "source": [
        "### Summarize information on the population of a city\n",
        "![alt text](https://thumbs.dreamstime.com/b/new-york-city-sunset-aerial-view-looking-over-midtown-manhattan-towards-downtown-41666282.jpg)"
      ]
    },
    {
      "cell_type": "markdown",
      "metadata": {
        "id": "IBtwfuGcodAz"
      },
      "source": [
        "## Descriptive Statistics\n",
        "\n",
        "- Deals with methods of organizing, summarizing, and presenting data in a convenient and informative way\n",
        "- Different summary/descriptive statistics are:\n",
        "   1. Measures of central tendency - mean, median, mode\n",
        "   2. Measures of dispersion - range, variance, standard deviation\n",
        "   3. Measures of shape - skewness, kurtosis"
      ]
    },
    {
      "cell_type": "markdown",
      "metadata": {
        "id": "7MLdZ3TcPPLy"
      },
      "source": [
        "#### Measures of Central Tendency\n",
        "\n",
        "- A summary measure that attempts to describe a whole set of data with a single value that represents the middle or centre of its distribution\n",
        "- There are three main measures of central tendency: the mode, the median and the mean, each of which describes a different indication of the typical or central value in the distribution\n",
        "\n",
        "##### Mean\n",
        "- The total of the sum of all values in a collection of numbers divided by the number of numbers in a collection\n",
        "- $\\mu=\\frac{\\sum\\limits _{i=1} ^{N}x_{i}}{N}$\n",
        "\n",
        "##### Median\n",
        "- The middle number in a sorted, ascending or descending, list of numbers and can be more descriptive of that data set than the average\n",
        "- N is Odd: The observation that falls in the middle is the median\n",
        "- $(\\frac{n+1}{2})^{th}$ item\n",
        "- N is Even: Median is determined by averaging the two observations in the middle\n",
        "- $\\frac{(\\frac{n}{2}) ^{th} +(\\frac{n}{2}+1) ^{th} }{2}$ item\n",
        "\n",
        "##### Mode\n",
        "- Observation(s) that occurs with the greatest frequency in a dataset"
      ]
    },
    {
      "cell_type": "code",
      "execution_count": 1,
      "metadata": {
        "id": "F_jFtZAwPPL1"
      },
      "outputs": [],
      "source": [
        "# Creating a list\n",
        "s1 = [17,4,33,2,51,23,3,41,18,2,4,2]"
      ]
    },
    {
      "cell_type": "code",
      "execution_count": 2,
      "metadata": {
        "id": "Ve7luHgLPPL5",
        "outputId": "0620cb66-0fb3-4039-d2a6-34e4ba2d6f50"
      },
      "outputs": [
        {
          "data": {
            "text/plain": [
              "16.666666666666668"
            ]
          },
          "execution_count": 2,
          "metadata": {},
          "output_type": "execute_result"
        }
      ],
      "source": [
        "# Mean\n",
        "sum(s1)/len(s1)"
      ]
    },
    {
      "cell_type": "code",
      "execution_count": 3,
      "metadata": {
        "id": "_Ufx2zEcPPL7",
        "outputId": "896c84d0-de20-409d-e733-e4d44a547f42"
      },
      "outputs": [
        {
          "name": "stdout",
          "output_type": "stream",
          "text": [
            "16.666666666666668\n"
          ]
        }
      ],
      "source": [
        "# Alternative way to calculate mean\n",
        "from statistics import mean\n",
        "print(mean(s1))"
      ]
    },
    {
      "cell_type": "code",
      "execution_count": 4,
      "metadata": {
        "id": "7vHI6x8vPPL8"
      },
      "outputs": [],
      "source": [
        "# Median - N is even\n",
        "# Sorting the list\n",
        "s1.sort()"
      ]
    },
    {
      "cell_type": "code",
      "execution_count": 5,
      "metadata": {
        "id": "xxjBCBmYPPL9",
        "outputId": "7927e405-f367-478a-dd47-27a143db6b23"
      },
      "outputs": [
        {
          "data": {
            "text/plain": [
              "[2, 2, 2, 3, 4, 4, 17, 18, 23, 33, 41, 51]"
            ]
          },
          "execution_count": 5,
          "metadata": {},
          "output_type": "execute_result"
        }
      ],
      "source": [
        "s1"
      ]
    },
    {
      "cell_type": "code",
      "execution_count": 6,
      "metadata": {
        "id": "0BXoUNxrPPL9",
        "outputId": "6a7aff62-ae79-4497-91c3-d299b40893ae"
      },
      "outputs": [
        {
          "data": {
            "text/plain": [
              "12"
            ]
          },
          "execution_count": 6,
          "metadata": {},
          "output_type": "execute_result"
        }
      ],
      "source": [
        "n = len(s1)\n",
        "n"
      ]
    },
    {
      "cell_type": "code",
      "execution_count": 7,
      "metadata": {
        "id": "emOB0jmnPPL-"
      },
      "outputs": [],
      "source": [
        "# Locating the two middle values using floor division operator\n",
        "median1 = s1[n//2]\n",
        "median2 = s1[n//2 - 1]\n",
        "median = (median1 + median2)/2"
      ]
    },
    {
      "cell_type": "code",
      "execution_count": 8,
      "metadata": {
        "id": "4DElvqWePPL_",
        "outputId": "52885db7-f34e-47d3-a9bb-26d321e832eb"
      },
      "outputs": [
        {
          "name": "stdout",
          "output_type": "stream",
          "text": [
            "17\n"
          ]
        }
      ],
      "source": [
        "print(median1)"
      ]
    },
    {
      "cell_type": "code",
      "execution_count": 9,
      "metadata": {
        "id": "YehzhlA6PPL_",
        "outputId": "cab11795-889d-44a7-965c-e1d5e21138e4"
      },
      "outputs": [
        {
          "name": "stdout",
          "output_type": "stream",
          "text": [
            "4\n"
          ]
        }
      ],
      "source": [
        "print(median2)"
      ]
    },
    {
      "cell_type": "code",
      "execution_count": 10,
      "metadata": {
        "id": "YWf6aSy-PPMA",
        "outputId": "217c4db6-9ce4-4fd0-ce0d-32d41e7a3dd4"
      },
      "outputs": [
        {
          "name": "stdout",
          "output_type": "stream",
          "text": [
            "10.5\n"
          ]
        }
      ],
      "source": [
        "print(median)"
      ]
    },
    {
      "cell_type": "code",
      "execution_count": 11,
      "metadata": {
        "id": "cVmdjXKBPPMA",
        "outputId": "a01af5c8-54dc-4776-999d-ce304ab5b175"
      },
      "outputs": [
        {
          "name": "stdout",
          "output_type": "stream",
          "text": [
            "10.5\n"
          ]
        }
      ],
      "source": [
        "# Alternative median calculation\n",
        "from statistics import median\n",
        "print(median(s1))"
      ]
    },
    {
      "cell_type": "code",
      "execution_count": 12,
      "metadata": {
        "id": "45GgIcoLPPMB"
      },
      "outputs": [],
      "source": [
        "# Median - N is odd\n",
        "s2 = [1,5,7,3,0]"
      ]
    },
    {
      "cell_type": "code",
      "execution_count": 13,
      "metadata": {
        "id": "4mjLfoYWPPMC",
        "outputId": "eea6b95b-e31c-4167-9efd-d0cd1299a8cd"
      },
      "outputs": [
        {
          "data": {
            "text/plain": [
              "[0, 1, 3, 5, 7]"
            ]
          },
          "execution_count": 13,
          "metadata": {},
          "output_type": "execute_result"
        }
      ],
      "source": [
        "s2.sort()\n",
        "s2"
      ]
    },
    {
      "cell_type": "code",
      "execution_count": 14,
      "metadata": {
        "id": "R8myPZfnPPMD",
        "outputId": "d659d16c-8593-4238-921a-41f3db74f075"
      },
      "outputs": [
        {
          "data": {
            "text/plain": [
              "3"
            ]
          },
          "execution_count": 14,
          "metadata": {},
          "output_type": "execute_result"
        }
      ],
      "source": [
        "# Locate the value that lies in the middle of the sorted sample using floor division operator\n",
        "median = s2[len(s2)//2]\n",
        "median"
      ]
    },
    {
      "cell_type": "code",
      "execution_count": 15,
      "metadata": {
        "id": "LXCltIcwPPMF"
      },
      "outputs": [],
      "source": [
        "# Mode\n",
        "s1 = [17,4,33,2,51,23,3,41,18,2,4,2]"
      ]
    },
    {
      "cell_type": "code",
      "execution_count": 16,
      "metadata": {
        "id": "yqqX214ePPMG"
      },
      "outputs": [],
      "source": [
        "# Using collections.Counter class for counting objects\n",
        "# The Counter class provides a method defined as .most_common([n]) that returns a list of two-items tuples\n",
        "# with the n more common elements and their respective counts\n",
        "# If n is omitted or None, then .most_common() returns all of the elements"
      ]
    },
    {
      "cell_type": "code",
      "execution_count": 17,
      "metadata": {
        "id": "0GOSfsY6PPMH",
        "outputId": "3488331e-454a-4a62-cbe3-89aac7065b16"
      },
      "outputs": [
        {
          "data": {
            "text/plain": [
              "Counter({17: 1, 4: 2, 33: 1, 2: 3, 51: 1, 23: 1, 3: 1, 41: 1, 18: 1})"
            ]
          },
          "execution_count": 17,
          "metadata": {},
          "output_type": "execute_result"
        }
      ],
      "source": [
        "from collections import Counter\n",
        "c = Counter(s1)\n",
        "c"
      ]
    },
    {
      "cell_type": "code",
      "execution_count": 18,
      "metadata": {
        "id": "5KuUHUSYPPMI",
        "outputId": "eb8f759b-8109-4d71-a0d6-449573845d0f"
      },
      "outputs": [
        {
          "data": {
            "text/plain": [
              "[2]"
            ]
          },
          "execution_count": 18,
          "metadata": {},
          "output_type": "execute_result"
        }
      ],
      "source": [
        "mode = [k for k, v in c.items() if v == c.most_common(1)[0][1]]\n",
        "mode"
      ]
    },
    {
      "cell_type": "code",
      "execution_count": 19,
      "metadata": {
        "id": "2QlGoCTVPPMI"
      },
      "outputs": [],
      "source": [
        "# Breaking the code down"
      ]
    },
    {
      "cell_type": "code",
      "execution_count": 20,
      "metadata": {
        "id": "jcjEYdwrPPMI",
        "outputId": "3cb9786e-75cb-4666-97ba-1f7770947682"
      },
      "outputs": [
        {
          "data": {
            "text/plain": [
              "dict_items([(17, 1), (4, 2), (33, 1), (2, 3), (51, 1), (23, 1), (3, 1), (41, 1), (18, 1)])"
            ]
          },
          "execution_count": 20,
          "metadata": {},
          "output_type": "execute_result"
        }
      ],
      "source": [
        "c.items()"
      ]
    },
    {
      "cell_type": "code",
      "execution_count": 21,
      "metadata": {
        "id": "KN-0N627PPMJ",
        "outputId": "8792f235-3490-443a-eef5-73144ccc2479"
      },
      "outputs": [
        {
          "data": {
            "text/plain": [
              "[(2, 3)]"
            ]
          },
          "execution_count": 21,
          "metadata": {},
          "output_type": "execute_result"
        }
      ],
      "source": [
        "c.most_common(1)    #returns a list with one tuple of the form (observation, count)"
      ]
    },
    {
      "cell_type": "code",
      "execution_count": 22,
      "metadata": {
        "id": "buFVQ-j0PPMJ",
        "outputId": "fca68348-586b-4972-ea7d-44bcedc46af5"
      },
      "outputs": [
        {
          "data": {
            "text/plain": [
              "3"
            ]
          },
          "execution_count": 22,
          "metadata": {},
          "output_type": "execute_result"
        }
      ],
      "source": [
        "# Getting the count by accessing item at index 0 in the list and then the item at index 1 in the nested tuple\n",
        "c.most_common(1)[0][1]"
      ]
    },
    {
      "cell_type": "code",
      "execution_count": 23,
      "metadata": {
        "id": "vFkUBXmHPPMK",
        "outputId": "06a24e2d-f688-4136-e3ab-165f4be18379"
      },
      "outputs": [
        {
          "name": "stdout",
          "output_type": "stream",
          "text": [
            "2\n"
          ]
        }
      ],
      "source": [
        "for k,v in c.items():\n",
        "    if v==c.most_common(1)[0][1]:\n",
        "        print(k)"
      ]
    },
    {
      "cell_type": "code",
      "execution_count": 24,
      "metadata": {
        "id": "tmF7iHzwPPMK",
        "outputId": "82e0ccd8-8242-44eb-83bd-c75f9b8eaf64"
      },
      "outputs": [
        {
          "name": "stdout",
          "output_type": "stream",
          "text": [
            "2\n"
          ]
        }
      ],
      "source": [
        "# Easier mode calculation\n",
        "from statistics import mode\n",
        "print(mode(s1))"
      ]
    },
    {
      "cell_type": "code",
      "execution_count": 25,
      "metadata": {
        "id": "pMD-wcIYPPML",
        "outputId": "98452332-7d74-4691-8fcc-f524a1eabcd0"
      },
      "outputs": [
        {
          "data": {
            "text/plain": [
              "2"
            ]
          },
          "execution_count": 25,
          "metadata": {},
          "output_type": "execute_result"
        }
      ],
      "source": [
        "# Minimum of the series\n",
        "min(s1)"
      ]
    },
    {
      "cell_type": "code",
      "execution_count": 26,
      "metadata": {
        "id": "S53ztU63PPML",
        "outputId": "276baff7-7416-46fc-95fd-44eb2629819b"
      },
      "outputs": [
        {
          "data": {
            "text/plain": [
              "51"
            ]
          },
          "execution_count": 26,
          "metadata": {},
          "output_type": "execute_result"
        }
      ],
      "source": [
        "# Maximum of the series\n",
        "max(s1)"
      ]
    },
    {
      "cell_type": "code",
      "execution_count": 27,
      "metadata": {
        "id": "sbcD_S6fPPMM",
        "outputId": "7c17117a-97f3-4b8d-c13f-a28e2445c736"
      },
      "outputs": [
        {
          "data": {
            "text/plain": [
              "(350, 1)"
            ]
          },
          "execution_count": 27,
          "metadata": {},
          "output_type": "execute_result"
        }
      ],
      "source": [
        "# Reading data into dataframe\n",
        "import pandas as pd\n",
        "df = pd.read_excel('data.xlsx',sheet_name='Amount')\n",
        "\n",
        "# Number of rows & cols\n",
        "df.shape"
      ]
    },
    {
      "cell_type": "code",
      "execution_count": 28,
      "metadata": {
        "id": "qQNVbYJEPPMN",
        "outputId": "1acbd66f-dbaa-45b1-cbf1-eb992f654efe"
      },
      "outputs": [
        {
          "data": {
            "text/html": [
              "<div>\n",
              "<style scoped>\n",
              "    .dataframe tbody tr th:only-of-type {\n",
              "        vertical-align: middle;\n",
              "    }\n",
              "\n",
              "    .dataframe tbody tr th {\n",
              "        vertical-align: top;\n",
              "    }\n",
              "\n",
              "    .dataframe thead th {\n",
              "        text-align: right;\n",
              "    }\n",
              "</style>\n",
              "<table border=\"1\" class=\"dataframe\">\n",
              "  <thead>\n",
              "    <tr style=\"text-align: right;\">\n",
              "      <th></th>\n",
              "      <th>Fr &amp; Veg</th>\n",
              "    </tr>\n",
              "  </thead>\n",
              "  <tbody>\n",
              "    <tr>\n",
              "      <th>0</th>\n",
              "      <td>625</td>\n",
              "    </tr>\n",
              "    <tr>\n",
              "      <th>1</th>\n",
              "      <td>354</td>\n",
              "    </tr>\n",
              "    <tr>\n",
              "      <th>2</th>\n",
              "      <td>577</td>\n",
              "    </tr>\n",
              "    <tr>\n",
              "      <th>3</th>\n",
              "      <td>570</td>\n",
              "    </tr>\n",
              "    <tr>\n",
              "      <th>4</th>\n",
              "      <td>664</td>\n",
              "    </tr>\n",
              "  </tbody>\n",
              "</table>\n",
              "</div>"
            ],
            "text/plain": [
              "   Fr & Veg\n",
              "0       625\n",
              "1       354\n",
              "2       577\n",
              "3       570\n",
              "4       664"
            ]
          },
          "execution_count": 28,
          "metadata": {},
          "output_type": "execute_result"
        }
      ],
      "source": [
        "# First 5 obs\n",
        "df.head()"
      ]
    },
    {
      "cell_type": "code",
      "execution_count": 29,
      "metadata": {
        "id": "xyz_fzpZPPMN",
        "outputId": "0bf4f227-a95c-40f6-8096-4239de0b7be5"
      },
      "outputs": [
        {
          "data": {
            "text/plain": [
              "Fr & Veg    519.2\n",
              "dtype: float64"
            ]
          },
          "execution_count": 29,
          "metadata": {},
          "output_type": "execute_result"
        }
      ],
      "source": [
        "# Average amount spent on Fruits and Vegatables\n",
        "df.mean()"
      ]
    },
    {
      "cell_type": "code",
      "execution_count": 30,
      "metadata": {
        "id": "O30MiBE5PPMO",
        "outputId": "96b34917-8ac4-44a8-bfd5-c1f4e27359f2"
      },
      "outputs": [
        {
          "data": {
            "text/plain": [
              "Fr & Veg    523.0\n",
              "dtype: float64"
            ]
          },
          "execution_count": 30,
          "metadata": {},
          "output_type": "execute_result"
        }
      ],
      "source": [
        "# Median\n",
        "df.median() #Half of the families are spending <=523"
      ]
    },
    {
      "cell_type": "code",
      "execution_count": 31,
      "metadata": {
        "id": "D7AJPO2nPPMP",
        "outputId": "85de1be2-eb81-465c-b457-f7e4a482c97d"
      },
      "outputs": [
        {
          "data": {
            "text/html": [
              "<div>\n",
              "<style scoped>\n",
              "    .dataframe tbody tr th:only-of-type {\n",
              "        vertical-align: middle;\n",
              "    }\n",
              "\n",
              "    .dataframe tbody tr th {\n",
              "        vertical-align: top;\n",
              "    }\n",
              "\n",
              "    .dataframe thead th {\n",
              "        text-align: right;\n",
              "    }\n",
              "</style>\n",
              "<table border=\"1\" class=\"dataframe\">\n",
              "  <thead>\n",
              "    <tr style=\"text-align: right;\">\n",
              "      <th></th>\n",
              "      <th>Fr &amp; Veg</th>\n",
              "    </tr>\n",
              "  </thead>\n",
              "  <tbody>\n",
              "    <tr>\n",
              "      <th>0</th>\n",
              "      <td>459</td>\n",
              "    </tr>\n",
              "    <tr>\n",
              "      <th>1</th>\n",
              "      <td>492</td>\n",
              "    </tr>\n",
              "    <tr>\n",
              "      <th>2</th>\n",
              "      <td>511</td>\n",
              "    </tr>\n",
              "    <tr>\n",
              "      <th>3</th>\n",
              "      <td>544</td>\n",
              "    </tr>\n",
              "    <tr>\n",
              "      <th>4</th>\n",
              "      <td>584</td>\n",
              "    </tr>\n",
              "    <tr>\n",
              "      <th>5</th>\n",
              "      <td>606</td>\n",
              "    </tr>\n",
              "  </tbody>\n",
              "</table>\n",
              "</div>"
            ],
            "text/plain": [
              "   Fr & Veg\n",
              "0       459\n",
              "1       492\n",
              "2       511\n",
              "3       544\n",
              "4       584\n",
              "5       606"
            ]
          },
          "execution_count": 31,
          "metadata": {},
          "output_type": "execute_result"
        }
      ],
      "source": [
        "# Mode\n",
        "df.mode()"
      ]
    },
    {
      "cell_type": "code",
      "execution_count": 32,
      "metadata": {
        "id": "ozsE6bAAPPMP",
        "outputId": "316f0c0e-f34f-49cf-bc6a-05a8f35af0c6"
      },
      "outputs": [
        {
          "data": {
            "text/plain": [
              "606    4\n",
              "511    4\n",
              "459    4\n",
              "492    4\n",
              "544    4\n",
              "584    4\n",
              "Name: Fr & Veg, dtype: int64"
            ]
          },
          "execution_count": 32,
          "metadata": {},
          "output_type": "execute_result"
        }
      ],
      "source": [
        "df['Fr & Veg'].value_counts().head(6)"
      ]
    },
    {
      "cell_type": "markdown",
      "metadata": {
        "id": "wfulbIlqPPMQ"
      },
      "source": [
        "#### Measures of Variability/Dispersion\n",
        "- Measure of spread of data\n",
        "- Measures of dispersion are:\n",
        "   1. Range\n",
        "   2. Variance\n",
        "   3. Standard deviation\n",
        "   \n",
        "###### Range\n",
        "-  Difference between the highest and lowest values in a data series, that is Largest obs-Smallest obs\n",
        "\n",
        "###### Variance\n",
        "- Measure of variability from the mean of a data series\n",
        "- Calculated by taking the average of squared deviations from the mean\n",
        "- How far each observation is from mean; these differences from the mean are called deviations\n",
        "- $\\sigma ^{2}=\\frac{\\sum\\limits _{i=1} ^{N}(x_{i}-\\mu) ^{2}}{N}$\n",
        "\n",
        "###### Standard Deviation\n",
        "- Measure of the amount of variation or dispersion of a set of values or data\n",
        "- Calculated as the square root of variance"
      ]
    },
    {
      "cell_type": "code",
      "execution_count": 56,
      "metadata": {
        "id": "-KmpEhFtPPMW",
        "outputId": "fd8c755c-acd3-4d3d-a541-580ab964f033"
      },
      "outputs": [
        {
          "data": {
            "text/plain": [
              "<AxesSubplot:ylabel='Frequency'>"
            ]
          },
          "execution_count": 56,
          "metadata": {},
          "output_type": "execute_result"
        },
        {
          "data": {
            "image/png": "[encoded data removed]",
            "text/plain": [
              "<Figure size 640x480 with 1 Axes>"
            ]
          },
          "metadata": {},
          "output_type": "display_data"
        }
      ],
      "source": [
        "# Exploring the distribution of the fruits & veg col\n",
        "df['Fr & Veg'].plot.hist()"
      ]
    },
    {
      "cell_type": "code",
      "execution_count": 35,
      "metadata": {
        "id": "bkH6tJ80PPMX",
        "outputId": "5c396b44-75d8-445e-9c0a-f9634bf5db73"
      },
      "outputs": [
        {
          "data": {
            "text/plain": [
              "Fr & Veg    15054.26361\n",
              "dtype: float64"
            ]
          },
          "execution_count": 35,
          "metadata": {},
          "output_type": "execute_result"
        }
      ],
      "source": [
        "# Variance\n",
        "df.var()"
      ]
    },
    {
      "cell_type": "code",
      "execution_count": 36,
      "metadata": {
        "id": "tQYg7xpaPPMX",
        "outputId": "a6b5273f-5641-4acc-e389-db555d686fb2"
      },
      "outputs": [
        {
          "data": {
            "text/plain": [
              "Fr & Veg    122.695817\n",
              "dtype: float64"
            ]
          },
          "execution_count": 36,
          "metadata": {},
          "output_type": "execute_result"
        }
      ],
      "source": [
        "# Std deviation\n",
        "df.std()"
      ]
    },
    {
      "cell_type": "code",
      "execution_count": 37,
      "metadata": {
        "id": "onH0pLsYodA_"
      },
      "outputs": [],
      "source": [
        "# How is Std Deviation really used? It can be shown mathematically by something called Chebyshev's Inequality:"
      ]
    },
    {
      "cell_type": "markdown",
      "metadata": {
        "id": "dDeNEoxbodA_"
      },
      "source": [
        "### Chebyshev’s Inequality\n",
        "In probability theory (which will be taught later on in the session), Chebyshev’s inequality, also known as “Bienayme-Chebyshev” inequality guarantees that, for a wide class of probability distributions, NO MORE than a certain fraction of values can be more than a certain distance from the mean.\n",
        "\n",
        "Specifically, no more than 1/k2 of the distribution’s values can be more than k standard deviations away from the mean( or equivalently, at least 1-1/k2 of the distribution’s values are within k standard deviations of the mean).\n",
        "\n",
        "![alt text](https://uploads-cdn.omnicalculator.com/images/chebyshev-theorem-formula.png)\n",
        "\n",
        "The rule is often known as Chebyshev’s theorem, tells about the range of standard deviations around the mean, in statistics.\n",
        "\n",
        "This inequality has great utility because it can be applied to any probability distribution in which the mean and variance are defined."
      ]
    },
    {
      "cell_type": "code",
      "execution_count": 38,
      "metadata": {
        "id": "I6J076RqPPMX"
      },
      "outputs": [],
      "source": [
        "########################################################################"
      ]
    },
    {
      "cell_type": "code",
      "execution_count": 39,
      "metadata": {
        "id": "pNTD2TLYPPMY",
        "outputId": "561e6d2e-4ecc-47a0-fb99-f6ed309abc47"
      },
      "outputs": [
        {
          "data": {
            "text/html": [
              "<div>\n",
              "<style scoped>\n",
              "    .dataframe tbody tr th:only-of-type {\n",
              "        vertical-align: middle;\n",
              "    }\n",
              "\n",
              "    .dataframe tbody tr th {\n",
              "        vertical-align: top;\n",
              "    }\n",
              "\n",
              "    .dataframe thead th {\n",
              "        text-align: right;\n",
              "    }\n",
              "</style>\n",
              "<table border=\"1\" class=\"dataframe\">\n",
              "  <thead>\n",
              "    <tr style=\"text-align: right;\">\n",
              "      <th></th>\n",
              "      <th>Deal</th>\n",
              "      <th>SP1</th>\n",
              "      <th>SP2</th>\n",
              "      <th>SP3</th>\n",
              "    </tr>\n",
              "  </thead>\n",
              "  <tbody>\n",
              "    <tr>\n",
              "      <th>0</th>\n",
              "      <td>D1</td>\n",
              "      <td>150000</td>\n",
              "      <td>105000</td>\n",
              "      <td>65000</td>\n",
              "    </tr>\n",
              "    <tr>\n",
              "      <th>1</th>\n",
              "      <td>D2</td>\n",
              "      <td>25000</td>\n",
              "      <td>110000</td>\n",
              "      <td>50000</td>\n",
              "    </tr>\n",
              "    <tr>\n",
              "      <th>2</th>\n",
              "      <td>D3</td>\n",
              "      <td>300000</td>\n",
              "      <td>130000</td>\n",
              "      <td>70000</td>\n",
              "    </tr>\n",
              "    <tr>\n",
              "      <th>3</th>\n",
              "      <td>D4</td>\n",
              "      <td>48000</td>\n",
              "      <td>110000</td>\n",
              "      <td>150000</td>\n",
              "    </tr>\n",
              "    <tr>\n",
              "      <th>4</th>\n",
              "      <td>D5</td>\n",
              "      <td>55000</td>\n",
              "      <td>123000</td>\n",
              "      <td>243000</td>\n",
              "    </tr>\n",
              "  </tbody>\n",
              "</table>\n",
              "</div>"
            ],
            "text/plain": [
              "  Deal     SP1     SP2     SP3\n",
              "0   D1  150000  105000   65000\n",
              "1   D2   25000  110000   50000\n",
              "2   D3  300000  130000   70000\n",
              "3   D4   48000  110000  150000\n",
              "4   D5   55000  123000  243000"
            ]
          },
          "execution_count": 39,
          "metadata": {},
          "output_type": "execute_result"
        }
      ],
      "source": [
        "# Loading sales data\n",
        "deals = pd.read_excel('data.xlsx',sheet_name='Sales')\n",
        "deals"
      ]
    },
    {
      "cell_type": "code",
      "execution_count": 40,
      "metadata": {
        "id": "eMHhJGOOPPMY",
        "outputId": "681030fa-8e33-4c1f-c14a-7867705b34f4"
      },
      "outputs": [
        {
          "data": {
            "text/plain": [
              "SP1    578000\n",
              "SP2    578000\n",
              "SP3    578000\n",
              "dtype: int64"
            ]
          },
          "execution_count": 40,
          "metadata": {},
          "output_type": "execute_result"
        }
      ],
      "source": [
        "# Which sales person is more consistent\n",
        "deals.drop('Deal',axis=1).sum()\n",
        "\n",
        "#axis=0 look for the value horizontally/rows\n",
        "#axis=1 look for the value vertically/columns"
      ]
    },
    {
      "cell_type": "code",
      "execution_count": 41,
      "metadata": {
        "id": "ZHDSxAP6PPMY",
        "outputId": "9d42a194-5eec-402c-ecec-2151196a71a2"
      },
      "outputs": [
        {
          "data": {
            "text/plain": [
              "SP1    113619.100507\n",
              "SP2     10454.664031\n",
              "SP3     81174.503386\n",
              "dtype: float64"
            ]
          },
          "execution_count": 41,
          "metadata": {},
          "output_type": "execute_result"
        }
      ],
      "source": [
        "deals.drop('Deal',axis=1).std()"
      ]
    },
    {
      "cell_type": "code",
      "execution_count": 42,
      "metadata": {
        "id": "3Jkk4h8CPPMZ",
        "outputId": "d50ffa81-4a34-44ed-9fc2-4e9657fcff54"
      },
      "outputs": [
        {
          "data": {
            "text/plain": [
              "SP1    115600.0\n",
              "SP2    115600.0\n",
              "SP3    115600.0\n",
              "dtype: float64"
            ]
          },
          "execution_count": 42,
          "metadata": {},
          "output_type": "execute_result"
        }
      ],
      "source": [
        "deals.drop('Deal',axis=1).mean()"
      ]
    },
    {
      "cell_type": "markdown",
      "metadata": {
        "id": "b2v_ZECHPPMZ"
      },
      "source": [
        "Since the average and total sales amount for each of the sales person is the same, we may conclude from std dev metric that SP2 is more consistent than the rest due to the low std dev"
      ]
    },
    {
      "cell_type": "code",
      "execution_count": 43,
      "metadata": {
        "id": "EAZBMA-UPPMZ",
        "outputId": "ddde3853-00ce-4a45-8d54-94a028f9814e"
      },
      "outputs": [
        {
          "data": {
            "text/plain": [
              "Fr & Veg    678\n",
              "dtype: int64"
            ]
          },
          "execution_count": 43,
          "metadata": {},
          "output_type": "execute_result"
        }
      ],
      "source": [
        "# Range\n",
        "df.max()-df.min()"
      ]
    },
    {
      "cell_type": "markdown",
      "metadata": {
        "id": "dQUE59NNPPMa"
      },
      "source": [
        "##### Quartiles\n",
        "\n",
        "- Set of values that divide a dataset into quarters\n",
        "- Median of a dataset is the 2nd quartile\n",
        "\n",
        "##### IQR\n",
        "\n",
        "- Difference between 3rd and 1st quartiles"
      ]
    },
    {
      "cell_type": "code",
      "execution_count": 44,
      "metadata": {
        "id": "Nf16YbgMPPMa",
        "outputId": "98704b7a-fa65-4eba-b363-cc490a1b2f59"
      },
      "outputs": [
        {
          "data": {
            "text/plain": [
              "Fr & Veg    444.75\n",
              "Name: 0.25, dtype: float64"
            ]
          },
          "execution_count": 44,
          "metadata": {},
          "output_type": "execute_result"
        }
      ],
      "source": [
        "#Quartiles - 25% - 50% - 75%\n",
        "df.quantile(0.25) # Q1 - lower quartile"
      ]
    },
    {
      "cell_type": "code",
      "execution_count": 45,
      "metadata": {
        "id": "WgxrQS1PPPMa",
        "outputId": "2cac4264-21a1-436d-dcd5-83d90267e244"
      },
      "outputs": [
        {
          "data": {
            "text/plain": [
              "Fr & Veg    523.0\n",
              "Name: 0.5, dtype: float64"
            ]
          },
          "execution_count": 45,
          "metadata": {},
          "output_type": "execute_result"
        }
      ],
      "source": [
        "df.quantile(0.5) # Q2 - second quartile/median"
      ]
    },
    {
      "cell_type": "code",
      "execution_count": 46,
      "metadata": {
        "id": "_kxWYIxDPPMa",
        "outputId": "08c6436d-d417-40ef-e0d8-945a4211cc98"
      },
      "outputs": [
        {
          "data": {
            "text/plain": [
              "Fr & Veg    603.5\n",
              "Name: 0.75, dtype: float64"
            ]
          },
          "execution_count": 46,
          "metadata": {},
          "output_type": "execute_result"
        }
      ],
      "source": [
        "df.quantile(0.75) # Q3 - upper quartile"
      ]
    },
    {
      "cell_type": "code",
      "execution_count": 47,
      "metadata": {
        "id": "HgvP4GKXPPMb",
        "outputId": "717aff07-a862-4461-a069-a762612ef0f0"
      },
      "outputs": [
        {
          "data": {
            "text/plain": [
              "Fr & Veg    158.75\n",
              "dtype: float64"
            ]
          },
          "execution_count": 47,
          "metadata": {},
          "output_type": "execute_result"
        }
      ],
      "source": [
        "# IQR\n",
        "df.quantile(0.75) -df.quantile(0.25)"
      ]
    },
    {
      "cell_type": "code",
      "execution_count": 48,
      "metadata": {
        "id": "aLFpuGCbPPMb"
      },
      "outputs": [],
      "source": [
        "# If mean=median=mode then the data is said to be symmetric or normally distributed"
      ]
    },
    {
      "cell_type": "markdown",
      "metadata": {
        "id": "1WWauf1IPPMc"
      },
      "source": [
        "##### Three Sigma Rule\n",
        "- Approximately 68% of all observations fall within one standard deviation of the mean. (mean+-1std)\n",
        "- Approximately 95% of all observations fall within two standard deviations of the mean. (mean+-2std)\n",
        "- Approximately 99.7% of all observations fall within three standard deviations of the mean. (mean+-3std)"
      ]
    },
    {
      "cell_type": "markdown",
      "metadata": {
        "id": "m6IVKP4YPPMc"
      },
      "source": [
        "#### Measures Of Shape\n",
        "- Describes the distribution/pattern of the data\n",
        "- Distributions may be categorised into symmetrical distribution and asymmetrical distribution\n",
        "- Symmetrical distribution: two sides of the distribution are a mirror images of each other\n",
        "- Asymmetric distribution: the two sides of a distribution do not mirror each other if the collected sample data is systematically biased and includes data points that have certain particular characteristics\n",
        "- Measures of shape are:\n",
        "  1. Skewness\n",
        "  2. Kurtosis\n",
        "  \n",
        "##### Skewness\n",
        "- Measure of the asymmetry of the probability distribution of a real-valued random variable about its mean\n",
        "- The skewness value can be positive, zero, negative, or undefined\n",
        "- Positive skewed distribution: the mean of the distribution is higher than the median; most of the scores occur at the lower end of the distribution while few scores are at the higher end\n",
        "- Negative skewed distribution: the median of the distribution is higher than the mean; most of the scores occur at the higher end of the distribution while few scores are at the lower end\n",
        "\n",
        "##### Kurtosis\n",
        "- A measure of the combined weight of a distribution's tails relative to the center of the distribution\n",
        "- Measures sharpness of the peak of the distribution\n",
        "- A high kurtosis distribution has a sharp peak and fat tails\n",
        "- A low kurtosis distribution has a flat peak and thin tails"
      ]
    },
    {
      "cell_type": "code",
      "execution_count": 55,
      "metadata": {
        "id": "ZC1n2TYLPPMd",
        "outputId": "7437a812-a8a8-48bf-d854-af92c46fcac8"
      },
      "outputs": [
        {
          "data": {
            "text/plain": [
              "<AxesSubplot:ylabel='Frequency'>"
            ]
          },
          "execution_count": 55,
          "metadata": {},
          "output_type": "execute_result"
        },
        {
          "data": {
            "image/png": "[encoded data removed]",
            "text/plain": [
              "<Figure size 640x480 with 1 Axes>"
            ]
          },
          "metadata": {},
          "output_type": "display_data"
        }
      ],
      "source": [
        "# Revisiting the distribution of the fruits & veg col\n",
        "df['Fr & Veg'].plot.hist()"
      ]
    },
    {
      "cell_type": "code",
      "execution_count": 57,
      "metadata": {
        "id": "bzx4rf7pPPMe",
        "outputId": "b186db1f-434e-4bac-af48-81ff68923c52"
      },
      "outputs": [
        {
          "data": {
            "text/plain": [
              "-0.04477204149790183"
            ]
          },
          "execution_count": 57,
          "metadata": {},
          "output_type": "execute_result"
        }
      ],
      "source": [
        "# Skewness\n",
        "df['Fr & Veg'].skew()"
      ]
    },
    {
      "cell_type": "markdown",
      "metadata": {
        "id": "V96Ou7HOPPMe"
      },
      "source": [
        "**SciPy is a third-party library for scientific computing based on NumPy. It offers additional functionality compared to NumPy, including scipy.stats for statistical analysis.**"
      ]
    },
    {
      "cell_type": "code",
      "execution_count": 58,
      "metadata": {
        "id": "cFatu1sbPPMe"
      },
      "outputs": [],
      "source": [
        "# pip install scipy"
      ]
    },
    {
      "cell_type": "code",
      "execution_count": 59,
      "metadata": {
        "id": "LaxHi1mWPPMf",
        "outputId": "41b73418-4abe-4c9c-8cef-fe429711b6b6"
      },
      "outputs": [
        {
          "data": {
            "text/plain": [
              "-0.12906876782921373"
            ]
          },
          "execution_count": 59,
          "metadata": {},
          "output_type": "execute_result"
        }
      ],
      "source": [
        "# Kurtosis\n",
        "from scipy.stats import kurtosis\n",
        "kurtosis(df['Fr & Veg'])"
      ]
    },
    {
      "cell_type": "markdown",
      "metadata": {
        "id": "uUPAILDYPPMs"
      },
      "source": [
        "### end of the notebook."
      ]
    },
    {
      "cell_type": "markdown",
      "metadata": {
        "id": "Cl5ZpBBiodBG"
      },
      "source": [
        "It is important for us to learn about descriptive statistics and to use them because\n",
        "they enable us to efficiently describe a large\n",
        "number of data points. Descriptive statistics is\n",
        "just not about description. We can sometimes\n",
        "infer trends or patterns in the data from looking\n",
        "at the descriptive statistics output.\n",
        "\n",
        "Let’s take an example to understand what it\n",
        "means to talk about an inference:\n",
        "\n",
        "\n",
        "### Why are customers defaulting?\n",
        "\n",
        "![alt text](https://www.bajajfinservmarkets.in/discover/wp-content/uploads/2022/01/Credit-Card-Default_Blog-banner-min.png)\n",
        "\n"
      ]
    }
  ],
  "metadata": {
    "colab": {
      "provenance": []
    },
    "kernelspec": {
      "display_name": "Python 3",
      "language": "python",
      "name": "python3"
    },
    "language_info": {
      "codemirror_mode": {
        "name": "ipython",
        "version": 3
      },
      "file_extension": ".py",
      "mimetype": "text/x-python",
      "name": "python",
      "nbconvert_exporter": "python",
      "pygments_lexer": "ipython3",
      "version": "3.9.13"
    }
  },
  "nbformat": 4,
  "nbformat_minor": 0
}
