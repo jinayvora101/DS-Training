{
 "cells": [
  {
   "cell_type": "code",
   "execution_count": 1,
   "metadata": {},
   "outputs": [],
   "source": [
    "import pandas as pd\n",
    "import numpy as np\n",
    "from scipy.stats import *\n",
    "from statsmodels.stats import weightstats as stests"
   ]
  },
  {
   "cell_type": "code",
   "execution_count": 22,
   "metadata": {},
   "outputs": [],
   "source": [
    "# 1. Your friend gets you to sample the amplitude of 74 psych students from a population and obtain a mean amplitude of 74.75 \n",
    "#     and a standard deviation of 6.2287.Using an alpha value of α = 0.01, is this observed mean significantly less \n",
    "#     than an expected amplitude of 77? What is the effect size? Is the effect size small, medium or large?\n",
    "# HINT: Look up effect size - what it entails\n",
    "\n"
   ]
  },
  {
   "cell_type": "code",
   "execution_count": null,
   "metadata": {},
   "outputs": [],
   "source": [
    "# 2. A company wants to improve the quality of products by reducing defects and monitoring the efficiency of assembly lines. \n",
    "#    In assembly line A, there were 18 defects reported out of 200 samples while in line B, 25 defects out of 600 samples \n",
    "#    were noted. Is there a difference in the procedures at a 0.05 alpha level?\n",
    "\n"
   ]
  },
  {
   "cell_type": "code",
   "execution_count": 21,
   "metadata": {},
   "outputs": [
    {
     "data": {
      "text/plain": [
       "0.6048361662034039"
      ]
     },
     "execution_count": 21,
     "metadata": {},
     "output_type": "execute_result"
    }
   ],
   "source": [
    "\n",
    "# 3. Suppose colors come in 4 varieties: plastic, useful, colossal and addicted. \n",
    "#    In the pursuit of science, you find 101 colors and count how many fall into each variety. \n",
    "#    This generates the following table:\n",
    "#         ----------------------------------------------------\n",
    "#         varieties | plastic | useful | colossal | addicted\n",
    "#         ----------------------------------------------------\n",
    "#         frequency | 29      | 20     | 21       | 31\n",
    "#         ----------------------------------------------------\n",
    "#  Using an alpha = 0.01 test the null hypothesis that the 101 colors are distributed evenly across the 4 varieties of plastic, \n",
    "#  useful, colossal and addicted.\n",
    "#  H0 : The frequency is distributed as expected across the 4 varieties.\n",
    "#  H1 : The frequency is not distributed as expected across the 4 varieties.\n",
    "\n",
    "df_colour = pd.DataFrame({\"Observed\": [29, 20, 21, 31], \"Expected\": [101/4]*4}).T\n",
    "df_colour.columns = [\"plastic\", \"useful\", \"colossal\", \"addicted\"]\n",
    "\n",
    "chi2_contingency(df_colour)[1]"
   ]
  },
  {
   "cell_type": "code",
   "execution_count": null,
   "metadata": {},
   "outputs": [],
   "source": [
    "# 4. Suppose statistics problems and professors come in 3 varieties: uneven, gamy and outgoing. \n",
    "#    Let's find 76 statistics problems and 63 professors and count how many fall into each variety. \n",
    "#    This generates the following table:\n",
    "#         ------------------------------------------------------\n",
    "#                           | statistic problems | professors\n",
    "#         ------------------------------------------------------\n",
    "#                  boring   | 35                 | 13\n",
    "#         ------------------------------------------------------\n",
    "#                     fun   | 19                 | 29\n",
    "#         ------------------------------------------------------\n",
    "#                  strict   | 22                 | 21\n",
    "#         ------------------------------------------------------\n",
    "#     Using an alpha value of 0.05, test the hypothesis that the statistics problems and professors are distributed \n",
    "#    independently across the varieties of uneven, gamy and outgoing.\n",
    "#  H0 : The two random variables are independent.\n",
    "#  H1 : The two random variables are dependent.\n",
    "\n"
   ]
  }
 ],
 "metadata": {
  "kernelspec": {
   "display_name": "Python 3",
   "language": "python",
   "name": "python3"
  },
  "language_info": {
   "codemirror_mode": {
    "name": "ipython",
    "version": 3
   },
   "file_extension": ".py",
   "mimetype": "text/x-python",
   "name": "python",
   "nbconvert_exporter": "python",
   "pygments_lexer": "ipython3",
   "version": "3.9.13"
  }
 },
 "nbformat": 4,
 "nbformat_minor": 2
}
