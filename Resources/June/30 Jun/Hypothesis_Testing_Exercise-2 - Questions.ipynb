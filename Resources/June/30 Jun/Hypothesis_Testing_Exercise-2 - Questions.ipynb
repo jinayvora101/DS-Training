{
 "cells": [
  {
   "cell_type": "code",
   "execution_count": 1,
   "metadata": {},
   "outputs": [],
   "source": [
    "# Questions:\n",
    "\n",
    "# 1. An experiment was conducted to compare the effectiveness of ammonium chloride and urea on the grain yield of paddy\n",
    "#    and data of the same is collected. X1 values are the ammonium chloride levels and X2 column denote urea.\n",
    "#    What can you conclude about the effectiveness of the two?(\"Paddy_yield_data.csv\")\n",
    "# 2. Suppose the IQ in a certain population is normally distributed with a mean of μ = 100 and standard deviation of σ = 15.\n",
    "#    A researcher wants to know if a new drug affects IQ levels, so he recruits 20 patients to try it \n",
    "#    and records their IQ levels. How to determine if the new drug causes a significant difference in IQ levels?(\"IQ_data.csv\")\n",
    "# 3. Suppose the IQ levels among individuals in two different cities are known to be normally distributed \n",
    "#    with known standard deviations. A researcher wants to know if the mean IQ level between individuals in city A and city B\n",
    "#    are different, so she selects a simple random sample of 20 individuals from each city and records their IQ levels.\n",
    "#    What can you conclude about the same?(\"IQ_city_data.csv\")\n",
    "# 4. An experiment was carried out to evaluate how genotype and number of years affect yield of a certain crop and data is\n",
    "#    collected on the same. What do you infer about the effect of genotype and years on the yield independently as well as\n",
    "#    collectively?(\"Genotype_yield_data.csv\")\n",
    "# 5. A survey was conducted on a small sample of population to analyse the relationship between gender and habits such as\n",
    "#    smoking and drinking. Are gender and the specific habits in question associated with each other?(\"Phone_brand_data.csv\")"
   ]
  },
  {
   "cell_type": "code",
   "execution_count": 1,
   "id": "2e47ecda",
   "metadata": {},
   "outputs": [],
   "source": [
    "import pandas as pd\n",
    "import numpy as np\n",
    "from scipy.stats import *"
   ]
  },
  {
   "cell_type": "code",
   "execution_count": 4,
   "id": "13a91e9f",
   "metadata": {},
   "outputs": [
    {
     "data": {
      "text/plain": [
       "Ttest_indResult(statistic=0.1846496543760765, pvalue=0.8551954147800473)"
      ]
     },
     "execution_count": 4,
     "metadata": {},
     "output_type": "execute_result"
    }
   ],
   "source": [
    "## 1. \n",
    "\n",
    "df_paddy = pd.read_csv(\"Paddy_yield_data.csv\")\n",
    "\n",
    "ttest_ind(df_paddy.X1, df_paddy.X2)"
   ]
  },
  {
   "cell_type": "code",
   "execution_count": 6,
   "id": "76af8abf",
   "metadata": {},
   "outputs": [
    {
     "data": {
      "text/plain": [
       "Ttest_1sampResult(statistic=1.5976240527147707, pvalue=0.06331231268062187)"
      ]
     },
     "execution_count": 6,
     "metadata": {},
     "output_type": "execute_result"
    }
   ],
   "source": [
    "## 2.\n",
    "\n",
    "df_iq = pd.read_csv(\"IQ_data.csv\")\n",
    "\n",
    "ttest_1samp(df_iq[\"IQ Level\"], popmean=100, alternative=\"greater\")"
   ]
  },
  {
   "cell_type": "code",
   "execution_count": 7,
   "id": "5f51a64b",
   "metadata": {},
   "outputs": [
    {
     "data": {
      "text/plain": [
       "Ttest_indResult(statistic=-1.9953236073282115, pvalue=0.05321388037191098)"
      ]
     },
     "execution_count": 7,
     "metadata": {},
     "output_type": "execute_result"
    }
   ],
   "source": [
    "## 3.\n",
    "\n",
    "df_iq_city = pd.read_csv(\"IQ_city_data.csv\")\n",
    "\n",
    "ttest_ind(df_iq_city[\"IQ_CITYA\"], df_iq_city[\"IQ_CITYB\"])"
   ]
  },
  {
   "cell_type": "code",
   "execution_count": 30,
   "id": "04d5e4ae",
   "metadata": {},
   "outputs": [
    {
     "data": {
      "text/html": [
       "<div>\n",
       "<style scoped>\n",
       "    .dataframe tbody tr th:only-of-type {\n",
       "        vertical-align: middle;\n",
       "    }\n",
       "\n",
       "    .dataframe tbody tr th {\n",
       "        vertical-align: top;\n",
       "    }\n",
       "\n",
       "    .dataframe thead th {\n",
       "        text-align: right;\n",
       "    }\n",
       "</style>\n",
       "<table border=\"1\" class=\"dataframe\">\n",
       "  <thead>\n",
       "    <tr style=\"text-align: right;\">\n",
       "      <th></th>\n",
       "      <th>df</th>\n",
       "      <th>sum_sq</th>\n",
       "      <th>mean_sq</th>\n",
       "      <th>F</th>\n",
       "      <th>PR(&gt;F)</th>\n",
       "    </tr>\n",
       "  </thead>\n",
       "  <tbody>\n",
       "    <tr>\n",
       "      <th>C(Genotype)</th>\n",
       "      <td>5.0</td>\n",
       "      <td>58.551733</td>\n",
       "      <td>11.710347</td>\n",
       "      <td>32.748581</td>\n",
       "      <td>1.931655e-12</td>\n",
       "    </tr>\n",
       "    <tr>\n",
       "      <th>C(Year)</th>\n",
       "      <td>2.0</td>\n",
       "      <td>278.925633</td>\n",
       "      <td>139.462817</td>\n",
       "      <td>390.014868</td>\n",
       "      <td>4.006243e-25</td>\n",
       "    </tr>\n",
       "    <tr>\n",
       "      <th>C(Genotype):C(Year)</th>\n",
       "      <td>10.0</td>\n",
       "      <td>17.122967</td>\n",
       "      <td>1.712297</td>\n",
       "      <td>4.788525</td>\n",
       "      <td>2.230094e-04</td>\n",
       "    </tr>\n",
       "    <tr>\n",
       "      <th>Residual</th>\n",
       "      <td>36.0</td>\n",
       "      <td>12.873000</td>\n",
       "      <td>0.357583</td>\n",
       "      <td>NaN</td>\n",
       "      <td>NaN</td>\n",
       "    </tr>\n",
       "  </tbody>\n",
       "</table>\n",
       "</div>"
      ],
      "text/plain": [
       "                       df      sum_sq     mean_sq           F        PR(>F)\n",
       "C(Genotype)           5.0   58.551733   11.710347   32.748581  1.931655e-12\n",
       "C(Year)               2.0  278.925633  139.462817  390.014868  4.006243e-25\n",
       "C(Genotype):C(Year)  10.0   17.122967    1.712297    4.788525  2.230094e-04\n",
       "Residual             36.0   12.873000    0.357583         NaN           NaN"
      ]
     },
     "execution_count": 30,
     "metadata": {},
     "output_type": "execute_result"
    }
   ],
   "source": [
    "## 4.\n",
    "\n",
    "df_genotype = pd.read_csv(\"Genotype_yield_data.csv\")\n",
    "df_genotype = df_genotype.melt(id_vars=\"Genotype\", value_vars=[\"1_year\", \"2_year\", \"3_year\"], var_name=\"Year\")\n",
    "df_genotype.Year = df_genotype.Year.apply(lambda x: int(x[0]))\n",
    "\n",
    "import statsmodels.api as sm\n",
    "from statsmodels.formula.api import ols\n",
    "\n",
    "model = ols('value ~ C(Genotype) + C(Year) +C(Genotype):C(Year)', data=df_genotype).fit()\n",
    "sm.stats.anova_lm(model, type=2)"
   ]
  },
  {
   "cell_type": "code",
   "execution_count": 15,
   "id": "5eb68d12",
   "metadata": {},
   "outputs": [
    {
     "data": {
      "text/plain": [
       "0.005398996448349567"
      ]
     },
     "execution_count": 15,
     "metadata": {},
     "output_type": "execute_result"
    }
   ],
   "source": [
    "## 5.\n",
    "\n",
    "df_phone = pd.read_csv(\"Phone_brand_data.csv\")\n",
    "df_phone.set_index(\"Gender\", inplace=True)\n",
    "\n",
    "chi2_contingency(df_phone)[1]"
   ]
  }
 ],
 "metadata": {
  "kernelspec": {
   "display_name": "Python 3",
   "language": "python",
   "name": "python3"
  },
  "language_info": {
   "codemirror_mode": {
    "name": "ipython",
    "version": 3
   },
   "file_extension": ".py",
   "mimetype": "text/x-python",
   "name": "python",
   "nbconvert_exporter": "python",
   "pygments_lexer": "ipython3",
   "version": "3.9.13"
  }
 },
 "nbformat": 4,
 "nbformat_minor": 5
}
