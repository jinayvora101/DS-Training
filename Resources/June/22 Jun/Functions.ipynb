{
 "cells": [
  {
   "cell_type": "markdown",
   "metadata": {},
   "source": [
    "# Basics of Functions\n",
    "\n",
    "Defining a function allows you to encapsulate a segment of code, specifying the information that enters and leaves the code. You can make use of this \"code-capsule\" repeatedly and in many different contexts. For example, suppose you want to count how many vowels are in a string. The following defines a function that accomplishes this:"
   ]
  },
  {
   "cell_type": "code",
   "execution_count": 1,
   "metadata": {},
   "outputs": [],
   "source": [
    "def count_vowels(in_string):\n",
    "    \"\"\" Returns the number of vowels contained in `in_string`\"\"\"\n",
    "    num_vowels = 0\n",
    "    vowels = \"aeiouAEIOU\"\n",
    "    \n",
    "    for char in in_string:\n",
    "        if char in vowels:\n",
    "            num_vowels += 1  # equivalent to num_vowels = num_vowels + 1\n",
    "    return num_vowels"
   ]
  },
  {
   "cell_type": "markdown",
   "metadata": {},
   "source": [
    "Executing this code will define the *function* `count_vowels`. This function expects to be passed one object, represented by `in_string`, as an *input argument*, and it will *return* the number of vowels stored in that object. Invoking `count_vowels`, passing it an input object, is referred to as *calling* the function:"
   ]
  },
  {
   "cell_type": "code",
   "execution_count": 2,
   "metadata": {},
   "outputs": [
    {
     "data": {
      "text/plain": [
       "5"
      ]
     },
     "execution_count": 2,
     "metadata": {},
     "output_type": "execute_result"
    }
   ],
   "source": [
    "count_vowels(\"Hi my name is Ryan\")"
   ]
  },
  {
   "cell_type": "markdown",
   "metadata": {},
   "source": [
    "The great thing about this is that it can be used over and over!"
   ]
  },
  {
   "cell_type": "code",
   "execution_count": 3,
   "metadata": {},
   "outputs": [
    {
     "data": {
      "text/plain": [
       "2"
      ]
     },
     "execution_count": 3,
     "metadata": {},
     "output_type": "execute_result"
    }
   ],
   "source": [
    "count_vowels(\"Apple\")"
   ]
  },
  {
   "cell_type": "code",
   "execution_count": 4,
   "metadata": {},
   "outputs": [
    {
     "data": {
      "text/plain": [
       "4"
      ]
     },
     "execution_count": 4,
     "metadata": {},
     "output_type": "execute_result"
    }
   ],
   "source": [
    "count_vowels(\"envelope\")"
   ]
  },
  {
   "cell_type": "markdown",
   "metadata": {},
   "source": [
    "In this section, we will learn about the syntax for defining and calling functions in Python\n",
    "<!-- #endregion -->\n",
    "\n",
    "<div class=\"alert alert-info\">\n",
    "\n",
    "**Definition**: \n",
    "\n",
    "A Python **function** is an object that encapsulates code. *Calling* the function will execute the encapsulated code and *return* an object. A function can be defined so that it accepts *arguments*, which are objects that are to be passed to the encapsulated code.  \n",
    "</div>\n",
    "\n",
    "\n",
    "## The `def` Statement\n",
    "Similar to `if`, `else`, and `for`, the `def` statement is reserved by the Python language to signify the definition of functions (and a few other things that we'll cover later). The following is the general syntax for defining a Python function:\n",
    "\n",
    "```\n",
    "def <function name>(<function signature>):\n",
    "    \"\"\" documentation string \"\"\"\n",
    "    <encapsulated code>\n",
    "    return <object>\n",
    "```\n",
    "\n",
    "- `<function name>` can be any valid variable name, and *must* be followed by parentheses and then a colon.\n",
    "- `<function signature>` specifies the input arguments to the function, and may be left blank if the function does not accept any arguments (the parentheses must still be included, but will not encapsulate anything).\n",
    "- The documentation string (commonly referred to as a \"docstring\") may span multiple lines, and should indicate what the function's purpose is. It is optional.\n",
    "- `<encapsulated code>` can consist of general Python code, and is demarcated by being indented relative to the `def` statement.\n",
    "- `return` if reached by the encapsulated code, triggers the function to return the specified object and end its own execution immediately.\n",
    " \n",
    "The `return` statement is also reserved by Python. It denotes the end of a function; if reached, a `return` statement immediately concludes the execution of the function and returns the specified object. \n",
    "\n",
    "Note that, like an if-statement and a for-loop, the `def` statment must end in a colon and the body of the function is [delimited by whitespace](https://www.pythonlikeyoumeanit.com/Module2_EssentialsOfPython/Introduction.html#Python-Uses-Whitespace-to-Delimit-Scope):\n",
    "\n",
    "<!-- #region -->"
   ]
  },
  {
   "cell_type": "code",
   "execution_count": 5,
   "metadata": {},
   "outputs": [
    {
     "ename": "IndentationError",
     "evalue": "expected an indented block (750389973.py, line 3)",
     "output_type": "error",
     "traceback": [
      "\u001b[1;36m  File \u001b[1;32m\"C:\\Users\\jinay.vora\\AppData\\Local\\Temp\\ipykernel_6416\\750389973.py\"\u001b[1;36m, line \u001b[1;32m3\u001b[0m\n\u001b[1;33m    x = 1\u001b[0m\n\u001b[1;37m    ^\u001b[0m\n\u001b[1;31mIndentationError\u001b[0m\u001b[1;31m:\u001b[0m expected an indented block\n"
     ]
    }
   ],
   "source": [
    "# wrong indentation\n",
    "def bad_func1():\n",
    "x = 1\n",
    "    return x + 2"
   ]
  },
  {
   "cell_type": "code",
   "execution_count": null,
   "metadata": {},
   "outputs": [],
   "source": [
    "# wrong indentation\n",
    "def bad_func2():\n",
    "    x = 1\n",
    "return x + 2"
   ]
  },
  {
   "cell_type": "code",
   "execution_count": null,
   "metadata": {},
   "outputs": [],
   "source": [
    "# missing colon\n",
    "def bad_func3()\n",
    "    x = 1\n",
    "    return x + 2"
   ]
  },
  {
   "cell_type": "code",
   "execution_count": null,
   "metadata": {},
   "outputs": [],
   "source": [
    "# missing parenthesis\n",
    "def bad_func4:\n",
    "    x = 1\n",
    "    return x + 2"
   ]
  },
  {
   "cell_type": "code",
   "execution_count": null,
   "metadata": {},
   "outputs": [],
   "source": [
    "# this is ok\n",
    "def ok_func():\n",
    "    x = 1\n",
    "    return x + 2"
   ]
  },
  {
   "cell_type": "markdown",
   "metadata": {},
   "source": [
    "### Class Exercise:\n",
    "Write a function named `count_even`. It should accept one input argument, named `numbers`, which will be an iterable containing integers. Have the function return the number of even-valued integers contained in the list. Include a reasonable docstring."
   ]
  },
  {
   "cell_type": "code",
   "execution_count": 6,
   "metadata": {},
   "outputs": [],
   "source": [
    "def count_even(numbers):\n",
    "    \"\"\" Counts the number of even integers in an iterable\"\"\"\n",
    "    total = 0\n",
    "    for num in numbers:\n",
    "        if num % 2 == 0:\n",
    "            total += 1\n",
    "    return total\n",
    "\n",
    "#or, using a generator comprehension:\n",
    "def count_even(numbers):\n",
    "    \"\"\" Counts the number of even integers in an iterable\"\"\"\n",
    "    return sum(1 for num in numbers if num % 2 == 0)"
   ]
  },
  {
   "cell_type": "code",
   "execution_count": 7,
   "metadata": {},
   "outputs": [
    {
     "data": {
      "text/plain": [
       "6"
      ]
     },
     "execution_count": 7,
     "metadata": {},
     "output_type": "execute_result"
    }
   ],
   "source": [
    "count_even([1,2,3,4,5,6,7,8,9,10,11,12])"
   ]
  },
  {
   "cell_type": "markdown",
   "metadata": {},
   "source": [
    "<!-- #region -->\n",
    "## The `return` Statement\n",
    "In general, any Python object can follow a function's `return` statement. Furthermore, an **empty** `return` statement can be specified, or the **return** statement of a function can be omitted altogether. In both of these cases, *the function will return the* `None` *object*."
   ]
  },
  {
   "cell_type": "code",
   "execution_count": 8,
   "metadata": {},
   "outputs": [],
   "source": [
    "# this function returns `None`\n",
    "# an \"empty\" return statement\n",
    "def f():\n",
    "    x = 1\n",
    "    return"
   ]
  },
  {
   "cell_type": "code",
   "execution_count": 9,
   "metadata": {},
   "outputs": [],
   "source": [
    "# this function returns `None`\n",
    "# return statement is omitted\n",
    "def f():\n",
    "    x = 1"
   ]
  },
  {
   "cell_type": "markdown",
   "metadata": {},
   "source": [
    "All Python functions return *something*. Even the built-in `print` function returns `None` after it prints to standard-output! "
   ]
  },
  {
   "cell_type": "code",
   "execution_count": 10,
   "metadata": {},
   "outputs": [
    {
     "name": "stdout",
     "output_type": "stream",
     "text": [
      "hi\n"
     ]
    }
   ],
   "source": [
    "# the `print` function returns `None`\n",
    "x = print(\"hi\")"
   ]
  },
  {
   "cell_type": "code",
   "execution_count": 11,
   "metadata": {},
   "outputs": [
    {
     "data": {
      "text/plain": [
       "True"
      ]
     },
     "execution_count": 11,
     "metadata": {},
     "output_type": "execute_result"
    }
   ],
   "source": [
    "x is None"
   ]
  },
  {
   "cell_type": "markdown",
   "metadata": {},
   "source": [
    "\n",
    "<div class=\"alert alert-warning\">\n",
    "\n",
    "**Warning!** \n",
    "\n",
    "Take care to not *mistakenly* omit a return statement or leave it blank. You will still be able to call your function, but it will return `None` no matter what!\n",
    "</div>\n",
    "\n",
    "A function also need not have any additional code beyond its return statement. For example, we can make use of `sum` and a generator comprehension (see the previous section of this module) to shorten our `count_vowels` function:"
   ]
  },
  {
   "cell_type": "code",
   "execution_count": 12,
   "metadata": {},
   "outputs": [],
   "source": [
    "# the returned object of a function can be specified straight-away\n",
    "def count_vowels(in_string): \n",
    "    \"\"\" Returns the number of vowels contained in `in_string`\"\"\"\n",
    "    return sum(1 for char in in_string if char in \"aeiouAEIOU\")"
   ]
  },
  {
   "cell_type": "markdown",
   "metadata": {},
   "source": [
    "<!-- #region -->\n",
    "### Multiple `return` Statements\n",
    "You can specify more than one `return` statement within a function. This can be useful for handling edge-cases or optimizations in your code. Suppose you want your function to compute $e^{x}$, using a [Taylor series](https://en.wikipedia.org/wiki/Taylor_series#Exponential_function) approximation. The function should immediately return `1.0` in the case that $x = 0$:"
   ]
  },
  {
   "cell_type": "code",
   "execution_count": 13,
   "metadata": {},
   "outputs": [],
   "source": [
    "def compute_exp(x):\n",
    "    \"\"\" Use a Taylor Series to compute e^x \"\"\"\n",
    "    if x == 0:\n",
    "        return 1.0\n",
    "\n",
    "    from math import factorial\n",
    "    return sum(x**n / factorial(n) for n in range(100))"
   ]
  },
  {
   "cell_type": "markdown",
   "metadata": {},
   "source": [
    "If `x==0` is `True`, then the first `return` statement is reached. `1.0` will be returned and the function will be \"exited\" immediately, without ever reaching the code following it.\n",
    "<!-- #endregion -->\n",
    "\n",
    "As stated above, a `return` statement will trigger a function to end its execution immediately when reached, even when subsequent code follows it. *It is impossible for multiple `return` statements to be visited within a single function call*. Thus if you want to return multiple items, then your function must return a single container of those items, like a list or a tuple."
   ]
  },
  {
   "cell_type": "code",
   "execution_count": 14,
   "metadata": {},
   "outputs": [],
   "source": [
    "# Returning multiple items from a function\n",
    "def bad_f(x):\n",
    "    \"\"\" return x**2 and x**3\"\"\"\n",
    "    return x**2 \n",
    "    # this code can never be reached!\n",
    "    return x**3\n",
    "\n",
    "def good_f(x):\n",
    "    \"\"\" return x**2 and x**3\"\"\"\n",
    "    return (x**2, x**3)"
   ]
  },
  {
   "cell_type": "code",
   "execution_count": 15,
   "metadata": {},
   "outputs": [
    {
     "data": {
      "text/plain": [
       "4"
      ]
     },
     "execution_count": 15,
     "metadata": {},
     "output_type": "execute_result"
    }
   ],
   "source": [
    "bad_f(2)"
   ]
  },
  {
   "cell_type": "code",
   "execution_count": 16,
   "metadata": {},
   "outputs": [
    {
     "data": {
      "text/plain": [
       "(4, 8)"
      ]
     },
     "execution_count": 16,
     "metadata": {},
     "output_type": "execute_result"
    }
   ],
   "source": [
    "good_f(2)"
   ]
  },
  {
   "cell_type": "markdown",
   "metadata": {},
   "source": [
    "<!-- #region -->\n",
    "## Inline Functions\n",
    "Functions can be defined in-line, as a single return statement:"
   ]
  },
  {
   "cell_type": "code",
   "execution_count": 17,
   "metadata": {},
   "outputs": [],
   "source": [
    "def add_2(x):\n",
    "    return x + 2"
   ]
  },
  {
   "cell_type": "markdown",
   "metadata": {},
   "source": [
    "can be rewritten as:"
   ]
  },
  {
   "cell_type": "code",
   "execution_count": 18,
   "metadata": {},
   "outputs": [],
   "source": [
    "def add_2(x): return x + 2"
   ]
  },
  {
   "cell_type": "markdown",
   "metadata": {},
   "source": [
    "This should be used sparingly, for exceedingly simple functions that can be easily understood without docstrings."
   ]
  },
  {
   "cell_type": "markdown",
   "metadata": {},
   "source": [
    "<!-- #region -->\n",
    "## Arguments\n",
    "A sequence of comma-separated variable names can be specified in the function signature to indicated *positional* arguments for the function. For example, the following specifies `x`, `lower`, and `upper` as input arguments to a function, `is_bounded`:"
   ]
  },
  {
   "cell_type": "code",
   "execution_count": 19,
   "metadata": {},
   "outputs": [],
   "source": [
    "def is_bounded(x, lower, upper):\n",
    "    return lower <= x <= upper"
   ]
  },
  {
   "cell_type": "markdown",
   "metadata": {},
   "source": [
    "This function can then be passed its arguments in several way:"
   ]
  },
  {
   "cell_type": "markdown",
   "metadata": {},
   "source": [
    "### Specifying Arguments by Position\n",
    "The objects passed to `is_bounded` will be assigned to its input variables based on their positions. That is, `is_bounded(3, 2, 4)` will assign `x=3`, `lower=2`, and `upper=4`, in accordance with the positional ordering of the function's input arguments:"
   ]
  },
  {
   "cell_type": "code",
   "execution_count": 20,
   "metadata": {},
   "outputs": [
    {
     "data": {
      "text/plain": [
       "True"
      ]
     },
     "execution_count": 20,
     "metadata": {},
     "output_type": "execute_result"
    }
   ],
   "source": [
    "# evaluate: 2 <= 3 <= 4\n",
    "# specifying inputs based on position\n",
    "is_bounded(3, 2, 4)"
   ]
  },
  {
   "cell_type": "markdown",
   "metadata": {},
   "source": [
    "Feeding a function too few or too many arguments will raise a `TypeError`"
   ]
  },
  {
   "cell_type": "code",
   "execution_count": 21,
   "metadata": {},
   "outputs": [
    {
     "ename": "TypeError",
     "evalue": "is_bounded() missing 2 required positional arguments: 'lower' and 'upper'",
     "output_type": "error",
     "traceback": [
      "\u001b[1;31m---------------------------------------------------------------------------\u001b[0m",
      "\u001b[1;31mTypeError\u001b[0m                                 Traceback (most recent call last)",
      "\u001b[1;32m~\\AppData\\Local\\Temp\\ipykernel_6416\\1708121696.py\u001b[0m in \u001b[0;36m<module>\u001b[1;34m\u001b[0m\n\u001b[0;32m      1\u001b[0m \u001b[1;31m# too few inputs: raises error\u001b[0m\u001b[1;33m\u001b[0m\u001b[1;33m\u001b[0m\u001b[0m\n\u001b[1;32m----> 2\u001b[1;33m \u001b[0mis_bounded\u001b[0m\u001b[1;33m(\u001b[0m\u001b[1;36m3\u001b[0m\u001b[1;33m)\u001b[0m\u001b[1;33m\u001b[0m\u001b[1;33m\u001b[0m\u001b[0m\n\u001b[0m\u001b[0;32m      3\u001b[0m \u001b[1;33m\u001b[0m\u001b[0m\n\u001b[0;32m      4\u001b[0m \u001b[1;31m# too many inputs: raises error\u001b[0m\u001b[1;33m\u001b[0m\u001b[1;33m\u001b[0m\u001b[0m\n\u001b[0;32m      5\u001b[0m \u001b[0mis_bounded\u001b[0m\u001b[1;33m(\u001b[0m\u001b[1;36m1\u001b[0m\u001b[1;33m,\u001b[0m \u001b[1;36m2\u001b[0m\u001b[1;33m,\u001b[0m \u001b[1;36m3\u001b[0m\u001b[1;33m,\u001b[0m \u001b[1;36m4\u001b[0m\u001b[1;33m)\u001b[0m\u001b[1;33m\u001b[0m\u001b[1;33m\u001b[0m\u001b[0m\n",
      "\u001b[1;31mTypeError\u001b[0m: is_bounded() missing 2 required positional arguments: 'lower' and 'upper'"
     ]
    }
   ],
   "source": [
    "# too few inputs: raises error\n",
    "is_bounded(3)\n",
    "\n",
    "# too many inputs: raises error\n",
    "is_bounded(1, 2, 3, 4)"
   ]
  },
  {
   "cell_type": "markdown",
   "metadata": {},
   "source": [
    "### Specifying Arguments by Name\n",
    "You can provide explicit names when specifying the inputs to a function, in which case ordering does not matter. This is very nice for writing clear and flexible code:"
   ]
  },
  {
   "cell_type": "code",
   "execution_count": 22,
   "metadata": {},
   "outputs": [
    {
     "data": {
      "text/plain": [
       "True"
      ]
     },
     "execution_count": 22,
     "metadata": {},
     "output_type": "execute_result"
    }
   ],
   "source": [
    "# evaluate: 2 <= 3 <= 4\n",
    "# specify inputs using explicit input names\n",
    "is_bounded(lower=2, x=3, upper=4)"
   ]
  },
  {
   "cell_type": "markdown",
   "metadata": {},
   "source": [
    "You can mix-and-match positional and named input by using position-based inputs first:\n"
   ]
  },
  {
   "cell_type": "code",
   "execution_count": 23,
   "metadata": {},
   "outputs": [
    {
     "data": {
      "text/plain": [
       "True"
      ]
     },
     "execution_count": 23,
     "metadata": {},
     "output_type": "execute_result"
    }
   ],
   "source": [
    "# evaluate: 2 <= 3 <= 4\n",
    "# `x` is specified based on position\n",
    "# `lower` and `upper` are specified by name\n",
    "is_bounded(3, upper=4, lower=2)"
   ]
  },
  {
   "cell_type": "markdown",
   "metadata": {},
   "source": [
    "Note that if you provide a named input, all the inputs following it must also be named:"
   ]
  },
  {
   "cell_type": "code",
   "execution_count": 24,
   "metadata": {},
   "outputs": [
    {
     "ename": "SyntaxError",
     "evalue": "positional argument follows keyword argument (3935144168.py, line 2)",
     "output_type": "error",
     "traceback": [
      "\u001b[1;36m  File \u001b[1;32m\"C:\\Users\\jinay.vora\\AppData\\Local\\Temp\\ipykernel_6416\\3935144168.py\"\u001b[1;36m, line \u001b[1;32m2\u001b[0m\n\u001b[1;33m    is_bounded(3, lower=2, 4)\u001b[0m\n\u001b[1;37m                            ^\u001b[0m\n\u001b[1;31mSyntaxError\u001b[0m\u001b[1;31m:\u001b[0m positional argument follows keyword argument\n"
     ]
    }
   ],
   "source": [
    "# positional arguments cannot follow named arguments\n",
    "is_bounded(3, lower=2, 4)"
   ]
  },
  {
   "cell_type": "markdown",
   "metadata": {},
   "source": [
    "<!-- #region -->\n",
    "### Default-Valued Arguments\n",
    "You can specify default values for input arguments to a function. Their default values are utilized if a user does not specify these inputs when calling the function. Recall our `count_vowels` function. Suppose we want the ability to include \"y\" as a vowel. We know, however, that people will typically want to exclude \"y\" from their vowels, so we can exclude \"y\" by default:"
   ]
  },
  {
   "cell_type": "code",
   "execution_count": 25,
   "metadata": {},
   "outputs": [],
   "source": [
    "def count_vowels(in_string, include_y=False): \n",
    "    \"\"\" Returns the number of vowels contained in `in_string`\"\"\"\n",
    "    vowels = \"aeiouAEIOU\"\n",
    "    if include_y:\n",
    "        vowels += \"yY\"  # add \"y\" to vowels  \n",
    "    return sum(1 for char in in_string if char in vowels)"
   ]
  },
  {
   "cell_type": "markdown",
   "metadata": {},
   "source": [
    "Now, if only `in_string` is specified when calling `count_vowels`, `include_y` will be passed the value `False` by default:"
   ]
  },
  {
   "cell_type": "code",
   "execution_count": 26,
   "metadata": {},
   "outputs": [
    {
     "data": {
      "text/plain": [
       "1"
      ]
     },
     "execution_count": 26,
     "metadata": {},
     "output_type": "execute_result"
    }
   ],
   "source": [
    "# using the default value: exclude y from vowels\n",
    "count_vowels(\"Happy\")"
   ]
  },
  {
   "cell_type": "markdown",
   "metadata": {},
   "source": [
    "This default value can be overridden:"
   ]
  },
  {
   "cell_type": "code",
   "execution_count": 27,
   "metadata": {},
   "outputs": [
    {
     "data": {
      "text/plain": [
       "2"
      ]
     },
     "execution_count": 27,
     "metadata": {},
     "output_type": "execute_result"
    }
   ],
   "source": [
    "# overriding the default value: include y as a vowel\n",
    "count_vowels(\"Happy\", True)"
   ]
  },
  {
   "cell_type": "code",
   "execution_count": 28,
   "metadata": {},
   "outputs": [
    {
     "data": {
      "text/plain": [
       "2"
      ]
     },
     "execution_count": 28,
     "metadata": {},
     "output_type": "execute_result"
    }
   ],
   "source": [
    "# you can still specify inputs by name\n",
    "count_vowels(include_y=True, in_string=\"Happy\")"
   ]
  },
  {
   "cell_type": "markdown",
   "metadata": {},
   "source": [
    "Default-valued input arguments must come after all positional input arguments in the function signature:"
   ]
  },
  {
   "cell_type": "code",
   "execution_count": 29,
   "metadata": {},
   "outputs": [],
   "source": [
    "# this is ok\n",
    "def f(x, y, z, count=1, upper=2):\n",
    "    return None"
   ]
  },
  {
   "cell_type": "code",
   "execution_count": 30,
   "metadata": {},
   "outputs": [
    {
     "ename": "SyntaxError",
     "evalue": "non-default argument follows default argument (666792056.py, line 2)",
     "output_type": "error",
     "traceback": [
      "\u001b[1;36m  File \u001b[1;32m\"C:\\Users\\jinay.vora\\AppData\\Local\\Temp\\ipykernel_6416\\666792056.py\"\u001b[1;36m, line \u001b[1;32m2\u001b[0m\n\u001b[1;33m    def f(x, y, count=1, upper=2, z):\u001b[0m\n\u001b[1;37m                                   ^\u001b[0m\n\u001b[1;31mSyntaxError\u001b[0m\u001b[1;31m:\u001b[0m non-default argument follows default argument\n"
     ]
    }
   ],
   "source": [
    "# this will raise a syntax error\n",
    "def f(x, y, count=1, upper=2, z):\n",
    "    return None"
   ]
  },
  {
   "cell_type": "markdown",
   "metadata": {},
   "source": [
    "### Class Exercise:\n",
    "Write a function, `max_or_min`, which accepts two positional arguments, `x` and `y` (which will hold numerical values), and a `mode` variable that has the default value `\"max\"`. \n",
    "\n",
    "The function should return `min(x, y)` or `max(x, y)` according to the `mode`. Have the function return `None` if `mode` is neither `\"max\"` nor `\"min\"`. \n",
    "\n",
    "Include a descriptive doc-string."
   ]
  },
  {
   "cell_type": "code",
   "execution_count": 31,
   "metadata": {},
   "outputs": [],
   "source": [
    "def max_or_min(x, y, mode=\"max\"):\n",
    "    \"\"\" Return either `max(x,y)` or `min(x,y)`,\n",
    "        according to the `mode` argument.\n",
    "        \n",
    "        Parameters\n",
    "        ----------\n",
    "        x : Number\n",
    "   \n",
    "        y : Number\n",
    "   \n",
    "        mode : str\n",
    "           Either 'max' or 'min'\n",
    "        \n",
    "        Returns\n",
    "        -------\n",
    "        The max or min of the two values. `None` is\n",
    "        returned if an invalid mode was specified.\"\"\"\n",
    "    if mode == \"max\":\n",
    "        return max(x, y)\n",
    "    elif mode == \"min\":\n",
    "        return min(x, y)\n",
    "    else:\n",
    "        return None"
   ]
  },
  {
   "cell_type": "code",
   "execution_count": 32,
   "metadata": {},
   "outputs": [
    {
     "data": {
      "text/plain": [
       "10"
      ]
     },
     "execution_count": 32,
     "metadata": {},
     "output_type": "execute_result"
    }
   ],
   "source": [
    "max_or_min(10,8)"
   ]
  },
  {
   "cell_type": "markdown",
   "metadata": {},
   "source": [
    "Note that you can actually have your function raise an \"exception\" (an error) in the case that `mode` wasn't passed a proper value. In fact, that is likely the more appropriate behavior for this function. \n",
    "\n",
    "Such a solution would look like: (We'll learn more about raising exceptions later on)"
   ]
  },
  {
   "cell_type": "code",
   "execution_count": 33,
   "metadata": {},
   "outputs": [],
   "source": [
    "def max_or_min(x, y, mode=\"max\"):\n",
    "    if mode == \"max\":\n",
    "        return max(x, y)\n",
    "    elif mode == \"min\":\n",
    "        return min(x, y)\n",
    "    else:\n",
    "        raise Exception(\"`mode` was passed an invalid value: {}\".format(mode))"
   ]
  },
  {
   "cell_type": "markdown",
   "metadata": {},
   "source": [
    "<!-- #region -->\n",
    "### Accommodating an Arbitrary Number of Positional Arguments\n",
    "Python provides us with a syntax for defining a function, which can be called with an arbitrary number of positional arguments. This is signaled by the syntax `def f(*<var_name>)`.\n"
   ]
  },
  {
   "cell_type": "code",
   "execution_count": 34,
   "metadata": {},
   "outputs": [],
   "source": [
    "# The * symbol indicates that an arbitrary number of\n",
    "# arguments can be passed to `args`, when calling `f`.\n",
    "def f(*args):\n",
    "    #  All arguments passed to `f` will be \"packed\" into a \n",
    "    #  tuple that is assigned to the variable `args`.\n",
    "    # `f()`  will assign `args = tuple()`\n",
    "    # `f(x, y, ...)` will assign `args = (x, y, ...)`\n",
    "    return args"
   ]
  },
  {
   "cell_type": "markdown",
   "metadata": {},
   "source": [
    "Because Python cannot foresee how many arguments will be passed to `f`, all of the objects that are passed to it will be *packed into a tuple*, which is then assigned to the variable `args`:"
   ]
  },
  {
   "cell_type": "code",
   "execution_count": 35,
   "metadata": {},
   "outputs": [
    {
     "data": {
      "text/plain": [
       "()"
      ]
     },
     "execution_count": 35,
     "metadata": {},
     "output_type": "execute_result"
    }
   ],
   "source": [
    "# pass zero arguments to `f`\n",
    "f()  "
   ]
  },
  {
   "cell_type": "code",
   "execution_count": 36,
   "metadata": {},
   "outputs": [
    {
     "data": {
      "text/plain": [
       "(1,)"
      ]
     },
     "execution_count": 36,
     "metadata": {},
     "output_type": "execute_result"
    }
   ],
   "source": [
    "# pass one argument to `f`\n",
    "f(1)    "
   ]
  },
  {
   "cell_type": "code",
   "execution_count": 37,
   "metadata": {},
   "outputs": [
    {
     "data": {
      "text/plain": [
       "((0, 1), True, 'cow')"
      ]
     },
     "execution_count": 37,
     "metadata": {},
     "output_type": "execute_result"
    }
   ],
   "source": [
    "# pass three arguments to `f`\n",
    "f((0, 1), True, \"cow\")  "
   ]
  },
  {
   "cell_type": "markdown",
   "metadata": {},
   "source": [
    "This syntax can be combined with positional arguments and default arguments. Any variables specified after a packed variable *must be called by name*:"
   ]
  },
  {
   "cell_type": "code",
   "execution_count": 38,
   "metadata": {},
   "outputs": [],
   "source": [
    "def f(x, *seq, y):\n",
    "    print(\"x is: \", x)\n",
    "    print(\"seq is: \", seq)\n",
    "    print(\"y is: \", y)\n",
    "    return None"
   ]
  },
  {
   "cell_type": "code",
   "execution_count": 39,
   "metadata": {},
   "outputs": [
    {
     "name": "stdout",
     "output_type": "stream",
     "text": [
      "x is:  1\n",
      "seq is:  (2, 3, 4)\n",
      "y is:  5\n"
     ]
    }
   ],
   "source": [
    "f(1, 2, 3, 4, y=5)  # `y` must be specified by name"
   ]
  },
  {
   "cell_type": "code",
   "execution_count": 40,
   "metadata": {},
   "outputs": [
    {
     "name": "stdout",
     "output_type": "stream",
     "text": [
      "x is:  cat\n",
      "seq is:  ()\n",
      "y is:  dog\n"
     ]
    }
   ],
   "source": [
    "f(\"cat\", y=\"dog\")  # no additional positional arguments are passed"
   ]
  },
  {
   "attachments": {},
   "cell_type": "markdown",
   "metadata": {},
   "source": [
    "### Class Exercise:\n",
    "Write a function named `mean`, which accepts and arbitrary number of numerical arguments, and computes the mean of all of the values passed to the function. Thus `mean(1, 2, 3)` should return $\\frac{\\frac{1 + 2 + 3}{}}{3} = 2.0$ \n",
    "\n",
    "This function should return `0.` if no arguments are passed to it. Be sure to test your function, and include a docstring."
   ]
  },
  {
   "cell_type": "code",
   "execution_count": 41,
   "metadata": {},
   "outputs": [],
   "source": [
    "def mean(*seq):\n",
    "    \"\"\" Returns the mean of the function's arguments \"\"\"\n",
    "    if len(seq) == 0:\n",
    "        return 0\n",
    "    \n",
    "    total = 0 \n",
    "    for num in seq:\n",
    "        total += num\n",
    "    return total / len(seq)"
   ]
  },
  {
   "cell_type": "code",
   "execution_count": 42,
   "metadata": {},
   "outputs": [
    {
     "data": {
      "text/plain": [
       "0"
      ]
     },
     "execution_count": 42,
     "metadata": {},
     "output_type": "execute_result"
    }
   ],
   "source": [
    "mean()"
   ]
  },
  {
   "cell_type": "code",
   "execution_count": 43,
   "metadata": {},
   "outputs": [
    {
     "data": {
      "text/plain": [
       "11.2"
      ]
     },
     "execution_count": 43,
     "metadata": {},
     "output_type": "execute_result"
    }
   ],
   "source": [
    "mean(1,2,3,45,5)"
   ]
  },
  {
   "cell_type": "markdown",
   "metadata": {},
   "source": [
    "or, being a bit more fancy :\n",
    "\n",
    "- using the fact that `bool(seq)` is `False` if `seq` is empty\n",
    "- using the inline if-else syntax"
   ]
  },
  {
   "cell_type": "code",
   "execution_count": 44,
   "metadata": {},
   "outputs": [],
   "source": [
    "def mean(*seq):\n",
    "    \"\"\" Returns the mean of the function's arguments \"\"\"\n",
    "    return sum(seq) / len(seq) if seq else 0"
   ]
  },
  {
   "cell_type": "markdown",
   "metadata": {},
   "source": [
    "<!-- #region -->\n",
    "We see that `*` indicates the *packing of an arbitrary number of arguments into a tuple*, when used in the signature of a function definition. Simultaneously, `*` signals the *unpacking of an iterable* to pass each of its members as a positional argument to a function, when used in the context of calling a function:"
   ]
  },
  {
   "cell_type": "code",
   "execution_count": 45,
   "metadata": {},
   "outputs": [],
   "source": [
    "# Using `*` when calling a function, to unpack an \n",
    "# iterable. Passing its members as distinct arguments \n",
    "# to the function\n",
    "\n",
    "def f(x, y, z):\n",
    "    return x + y + z"
   ]
  },
  {
   "cell_type": "code",
   "execution_count": 46,
   "metadata": {},
   "outputs": [
    {
     "data": {
      "text/plain": [
       "6"
      ]
     },
     "execution_count": 46,
     "metadata": {},
     "output_type": "execute_result"
    }
   ],
   "source": [
    "f(1, 2, 3)"
   ]
  },
  {
   "cell_type": "code",
   "execution_count": 47,
   "metadata": {},
   "outputs": [
    {
     "data": {
      "text/plain": [
       "6"
      ]
     },
     "execution_count": 47,
     "metadata": {},
     "output_type": "execute_result"
    }
   ],
   "source": [
    "# `*` means: unpack the contents of [1, 2, 3]\n",
    "# passing each item as x, y, and z,\n",
    "# respectively\n",
    "f(*[1, 2, 3])  # equivalent to: f(1, 2, 3)"
   ]
  },
  {
   "cell_type": "markdown",
   "metadata": {},
   "source": [
    "In the following example, we use `*` to: \n",
    "\n",
    "   1. Define a function to accept an arbitrary\n",
    "      number of arguments, which get packed into a tuple.\n",
    "   2. Call the function, passing it  an arbitrary \n",
    "      number of arguments, by unpacking an iterable.\n"
   ]
  },
  {
   "cell_type": "code",
   "execution_count": 48,
   "metadata": {},
   "outputs": [],
   "source": [
    "def number_of_args(*args):\n",
    "    return len(args)"
   ]
  },
  {
   "cell_type": "code",
   "execution_count": 49,
   "metadata": {},
   "outputs": [
    {
     "data": {
      "text/plain": [
       "4"
      ]
     },
     "execution_count": 49,
     "metadata": {},
     "output_type": "execute_result"
    }
   ],
   "source": [
    "number_of_args(None, None, None, None)"
   ]
  },
  {
   "cell_type": "code",
   "execution_count": 50,
   "metadata": {},
   "outputs": [
    {
     "data": {
      "text/plain": [
       "1"
      ]
     },
     "execution_count": 50,
     "metadata": {},
     "output_type": "execute_result"
    }
   ],
   "source": [
    "some_list = [1, 2, 3, 4, 5]\n",
    "number_of_args(some_list)"
   ]
  },
  {
   "cell_type": "code",
   "execution_count": 51,
   "metadata": {},
   "outputs": [
    {
     "data": {
      "text/plain": [
       "5"
      ]
     },
     "execution_count": 51,
     "metadata": {},
     "output_type": "execute_result"
    }
   ],
   "source": [
    "number_of_args(*some_list)"
   ]
  },
  {
   "cell_type": "markdown",
   "metadata": {},
   "source": [
    "### Accommodating an Arbitrary Number of Keyword Arguments\n",
    "We can also define a function that is able to accept an arbitrary number of *keyword* arguments, using the syntax: `def f(**<var_name>)` \n",
    "\n",
    "Note that a single asterisk, `*`, was used to denote an arbitrary number of *positional* arguments, whereas `**` signals the acceptance of an arbitrary number of *keyword* arguments. "
   ]
  },
  {
   "cell_type": "code",
   "execution_count": 52,
   "metadata": {},
   "outputs": [],
   "source": [
    "# The ** symbol indicates that an arbitrary number of\n",
    "# keyword arguments can be passed to `args`, when calling `f`.\n",
    "def f(**args):\n",
    "    #  All keyword arguments passed to `f` will be \"packed\" into a \n",
    "    #  dictionary that is assigned to the variable `args`.\n",
    "    # `f()`  will assign `args = {}` (an empty dictionary)\n",
    "    # `f(x=1, y=2, ...)` will assign `args = {\"x\":1, \"y\":2, ...}`\n",
    "    return args"
   ]
  },
  {
   "cell_type": "markdown",
   "metadata": {},
   "source": [
    "Because Python cannot foresee how many arguments will be passed to `f`, all of the keyword arguments that are passed to it will be packed into a *dictionary*, where a given keyword is set as a key (cast as a string) that maps to the corresponding value. This dictionary is then assigned to the variable `args`. Dictionaries will be discussed in detail in a [later section](https://www.pythonlikeyoumeanit.com/Module2_EssentialsOfPython/DataStructures_II_Dictionaries.html)."
   ]
  },
  {
   "cell_type": "code",
   "execution_count": 53,
   "metadata": {},
   "outputs": [
    {
     "data": {
      "text/plain": [
       "{}"
      ]
     },
     "execution_count": 53,
     "metadata": {},
     "output_type": "execute_result"
    }
   ],
   "source": [
    "f()            # pass zero arguments to `f`"
   ]
  },
  {
   "cell_type": "code",
   "execution_count": 54,
   "metadata": {},
   "outputs": [
    {
     "data": {
      "text/plain": [
       "{'x': 1}"
      ]
     },
     "execution_count": 54,
     "metadata": {},
     "output_type": "execute_result"
    }
   ],
   "source": [
    "f(x=1)           # pass one argument to `f`"
   ]
  },
  {
   "cell_type": "code",
   "execution_count": 55,
   "metadata": {},
   "outputs": [
    {
     "data": {
      "text/plain": [
       "{'x': (0, 1), 'val': True, 'moo': 'cow'}"
      ]
     },
     "execution_count": 55,
     "metadata": {},
     "output_type": "execute_result"
    }
   ],
   "source": [
    "f(x=(0, 1), val=True, moo=\"cow\")  # pass three arguments to `f`"
   ]
  },
  {
   "cell_type": "markdown",
   "metadata": {},
   "source": [
    "This syntax can be combined with positional arguments and default arguments. No additional arguments may come after a `**` entry in a function-definition signature:"
   ]
  },
  {
   "cell_type": "code",
   "execution_count": 56,
   "metadata": {},
   "outputs": [],
   "source": [
    "def f(x, y=2, **kwargs):\n",
    "    print(\"x is: \", x)\n",
    "    print(\"y is: \", y)\n",
    "    print(\"kwargs is: \", kwargs)\n",
    "    return None"
   ]
  },
  {
   "cell_type": "code",
   "execution_count": 57,
   "metadata": {},
   "outputs": [
    {
     "name": "stdout",
     "output_type": "stream",
     "text": [
      "x is:  1\n",
      "y is:  9\n",
      "kwargs is:  {'z': 3, 'k': 'hi'}\n"
     ]
    }
   ],
   "source": [
    "# passing arbitrary keyword arguments to `f`\n",
    "f(1, y=9, z=3, k=\"hi\")"
   ]
  },
  {
   "cell_type": "code",
   "execution_count": 58,
   "metadata": {},
   "outputs": [
    {
     "name": "stdout",
     "output_type": "stream",
     "text": [
      "x is:  cat\n",
      "y is:  dog\n",
      "kwargs is:  {}\n"
     ]
    }
   ],
   "source": [
    "# no additional keyword arguments are passed\n",
    "f(\"cat\", y=\"dog\")  "
   ]
  },
  {
   "cell_type": "markdown",
   "metadata": {},
   "source": [
    "The following function accepts an arbitrary number of positional arguments *and* an arbitrary number of keyword arguments:"
   ]
  },
  {
   "cell_type": "code",
   "execution_count": 59,
   "metadata": {},
   "outputs": [],
   "source": [
    "# accepting arbitrary positional and keyword arguments\n",
    "def f(*x, **y):\n",
    "    # all positional arguments get packed into the tuple `x`\n",
    "    # all keyword arguments get packed into the dictionary `y` \n",
    "    print(x)  \n",
    "    print(y)\n",
    "    return None"
   ]
  },
  {
   "cell_type": "code",
   "execution_count": 60,
   "metadata": {},
   "outputs": [
    {
     "name": "stdout",
     "output_type": "stream",
     "text": [
      "(1, 2, 3)\n",
      "{'hi': -1, 'bye': -2, 'sigh': -3}\n"
     ]
    }
   ],
   "source": [
    "f(1, 2, 3, hi=-1, bye=-2, sigh=-3)"
   ]
  },
  {
   "cell_type": "markdown",
   "metadata": {},
   "source": [
    "We see that `**` indicates the *packing of an arbitrary number of keyword arguments into a dictionary*, when used in the signature of a function definition. Simultaneously, `**` signals the *unpacking of a dictionary* to pass each of its key-value pairs as a keyword argument to a function, when used in the context of calling a function:\n"
   ]
  },
  {
   "cell_type": "code",
   "execution_count": 61,
   "metadata": {},
   "outputs": [],
   "source": [
    "# Using `**` when calling a function, to unpack a \n",
    "# dictionary, passing its members as keyword arguments \n",
    "# to the function\n",
    "def f(x, y, z):\n",
    "    return 0*x + 1*y + 2*z"
   ]
  },
  {
   "cell_type": "code",
   "execution_count": 62,
   "metadata": {},
   "outputs": [
    {
     "data": {
      "text/plain": [
       "21"
      ]
     },
     "execution_count": 62,
     "metadata": {},
     "output_type": "execute_result"
    }
   ],
   "source": [
    "f(z=10, x=9, y=1)"
   ]
  },
  {
   "cell_type": "code",
   "execution_count": 63,
   "metadata": {},
   "outputs": [
    {
     "data": {
      "text/plain": [
       "21"
      ]
     },
     "execution_count": 63,
     "metadata": {},
     "output_type": "execute_result"
    }
   ],
   "source": [
    "args = {\"x\": 9, \"y\": 1, \"z\": 10}\n",
    "f(**args)  # equivalent to: f(x=9, y=1, z=10)"
   ]
  },
  {
   "cell_type": "markdown",
   "metadata": {},
   "source": [
    "In the following example, we use `**` to: \n",
    "\n",
    "   1. Define a function to accept an arbitrary\n",
    "      number of keyword arguments, which get packed into a dictionary.\n",
    "   2. Call the function, passing it  an arbitrary \n",
    "      number of keyword arguments, by unpacking a dictionary."
   ]
  },
  {
   "cell_type": "code",
   "execution_count": 64,
   "metadata": {},
   "outputs": [],
   "source": [
    "def print_kwargs(**args):\n",
    "    print(args)"
   ]
  },
  {
   "cell_type": "code",
   "execution_count": 65,
   "metadata": {},
   "outputs": [
    {
     "name": "stdout",
     "output_type": "stream",
     "text": [
      "{'a': 1, 'b': 2, 'c': 3, 'd': 4}\n"
     ]
    }
   ],
   "source": [
    "print_kwargs(a=1, b=2, c=3, d=4)"
   ]
  },
  {
   "cell_type": "code",
   "execution_count": 66,
   "metadata": {},
   "outputs": [
    {
     "name": "stdout",
     "output_type": "stream",
     "text": [
      "{'a': 2, 'umbrella': True, 'hi': 1, 'bye': 2}\n"
     ]
    }
   ],
   "source": [
    "some_dict = {\"hi\":1, \"bye\":2}\n",
    "\n",
    "# unpacking the key-value pairs of the dictionary\n",
    "# as keyword arguments and values, to the function\n",
    "print_kwargs(a=2, umbrella=True, **some_dict)"
   ]
  },
  {
   "cell_type": "markdown",
   "metadata": {},
   "source": [
    "## Functions are Objects\n",
    "Once defined, a function behaves like any other Python object, like a list or string or integer. You can assign a variable to a function-object:"
   ]
  },
  {
   "cell_type": "code",
   "execution_count": 67,
   "metadata": {},
   "outputs": [
    {
     "data": {
      "text/plain": [
       "2"
      ]
     },
     "execution_count": 67,
     "metadata": {},
     "output_type": "execute_result"
    }
   ],
   "source": [
    "var = count_vowels  # `var` now references the function `count_vowels`\n",
    "var(\"Hello\")        # you can now \"call\" `var`"
   ]
  },
  {
   "cell_type": "markdown",
   "metadata": {},
   "source": [
    "You can store functions in a list:"
   ]
  },
  {
   "cell_type": "code",
   "execution_count": 77,
   "metadata": {},
   "outputs": [
    {
     "name": "stdout",
     "output_type": "stream",
     "text": [
      "hello\n"
     ]
    }
   ],
   "source": [
    "my_list = [count_vowels, print]\n",
    "\n",
    "for func in my_list:\n",
    "    func(\"hello\")\n",
    "    \n",
    "# iteration 0: calls `count_vowels(\"hello\")` \n",
    "# iteration 1: calls `print(\"hello\")`"
   ]
  },
  {
   "cell_type": "markdown",
   "metadata": {},
   "source": [
    "You can also call functions anywhere, and their return-value will be returned in-place:"
   ]
  },
  {
   "cell_type": "code",
   "execution_count": 69,
   "metadata": {},
   "outputs": [
    {
     "name": "stdout",
     "output_type": "stream",
     "text": [
      "that's a lot of vowels!\n"
     ]
    }
   ],
   "source": [
    "if count_vowels(\"pillow\") > 1:\n",
    "    print(\"that's a lot of vowels!\")"
   ]
  },
  {
   "cell_type": "markdown",
   "metadata": {},
   "source": [
    "And, of course, this works within comprehension expressions as well:"
   ]
  },
  {
   "cell_type": "code",
   "execution_count": 70,
   "metadata": {},
   "outputs": [
    {
     "data": {
      "text/plain": [
       "6"
      ]
     },
     "execution_count": 70,
     "metadata": {},
     "output_type": "execute_result"
    }
   ],
   "source": [
    "sum(count_vowels(word, include_y=True) for word in [\"hi\", \"bye\", \"guy\", \"sigh\"])"
   ]
  },
  {
   "cell_type": "markdown",
   "metadata": {},
   "source": [
    "\"Printing\" a function isn't very revealing. It simply tells you the memory address where the function-object is stored:"
   ]
  },
  {
   "cell_type": "code",
   "execution_count": 71,
   "metadata": {},
   "outputs": [
    {
     "name": "stdout",
     "output_type": "stream",
     "text": [
      "<function count_vowels at 0x000001502ECF18B0>\n"
     ]
    }
   ],
   "source": [
    "print(count_vowels)"
   ]
  },
  {
   "cell_type": "markdown",
   "metadata": {},
   "source": [
    "## Links to Official Documentation\n",
    "\n",
    "- [Definition of 'function'](https://docs.python.org/3/library/stdtypes.html#functions)\n",
    "- [Defining functions](https://docs.python.org/3/tutorial/controlflow.html#defining-functions)\n",
    "- [Default argument values](https://docs.python.org/3/tutorial/controlflow.html#default-argument-values)\n",
    "- [Keyword arguments](https://docs.python.org/3/tutorial/controlflow.html#keyword-arguments)\n",
    "- [Specifying arbitrary arguments](https://docs.python.org/3/tutorial/controlflow.html#arbitrary-argument-lists)\n",
    "- [Unpacking arguments](https://docs.python.org/3/tutorial/controlflow.html#unpacking-argument-lists)\n",
    "- [Documentation strings](https://docs.python.org/3/tutorial/controlflow.html#documentation-strings)\n",
    "- [Function annotations](https://docs.python.org/3/tutorial/controlflow.html#function-annotations)"
   ]
  },
  {
   "cell_type": "markdown",
   "metadata": {},
   "source": [
    "#### end of the notebook."
   ]
  }
 ],
 "metadata": {
  "colab": {
   "provenance": []
  },
  "kernelspec": {
   "display_name": "Python 3",
   "language": "python",
   "name": "python3"
  },
  "language_info": {
   "codemirror_mode": {
    "name": "ipython",
    "version": 3
   },
   "file_extension": ".py",
   "mimetype": "text/x-python",
   "name": "python",
   "nbconvert_exporter": "python",
   "pygments_lexer": "ipython3",
   "version": "3.9.13"
  }
 },
 "nbformat": 4,
 "nbformat_minor": 1
}
