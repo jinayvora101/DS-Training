{
 "cells": [
  {
   "cell_type": "markdown",
   "metadata": {},
   "source": [
    "## This is a markdown\n",
    "#### for texts, information, graphics"
   ]
  },
  {
   "cell_type": "code",
   "execution_count": null,
   "metadata": {},
   "outputs": [],
   "source": [
    "# This is a kernel - to run code"
   ]
  },
  {
   "cell_type": "markdown",
   "metadata": {
    "id": "mdXt18kkZ4U5"
   },
   "source": [
    "# Python - Basic Syntax"
   ]
  },
  {
   "cell_type": "code",
   "execution_count": 12,
   "metadata": {},
   "outputs": [
    {
     "name": "stdout",
     "output_type": "stream",
     "text": [
      "Hello world!\n"
     ]
    }
   ],
   "source": [
    "print('Hello world!')"
   ]
  },
  {
   "cell_type": "markdown",
   "metadata": {
    "id": "pdqbRIXBZ4U7"
   },
   "source": [
    "## Assignments"
   ]
  },
  {
   "cell_type": "code",
   "execution_count": 1,
   "metadata": {
    "id": "KpjssJIsZ4U9",
    "outputId": "a1259e41-a449-44a6-f0e3-036b73cb7c5f"
   },
   "outputs": [
    {
     "name": "stdout",
     "output_type": "stream",
     "text": [
      "5\n"
     ]
    }
   ],
   "source": [
    "# The following is a statement\n",
    "a = 5 # is an assignment\n",
    "print(a)"
   ]
  },
  {
   "cell_type": "markdown",
   "metadata": {
    "id": "hShNu3KPZ4U-"
   },
   "source": [
    "## Lines & Indentation"
   ]
  },
  {
   "cell_type": "code",
   "execution_count": 2,
   "metadata": {
    "id": "WdxLa_pmZ4U-",
    "outputId": "2362b6e8-df9a-4a96-8ab6-a2fddd6f2e80"
   },
   "outputs": [
    {
     "name": "stdout",
     "output_type": "stream",
     "text": [
      "True\n"
     ]
    }
   ],
   "source": [
    "# If Statement below is with proper indentation. Works perfectly fine\n",
    "if True:\n",
    "   print(\"True\")\n",
    "else:\n",
    "   print(\"False\")"
   ]
  },
  {
   "cell_type": "code",
   "execution_count": 3,
   "metadata": {
    "id": "aYJuMEAsZ4U-",
    "outputId": "136e337c-2ff0-4225-8885-42ad0984dfae"
   },
   "outputs": [
    {
     "ename": "IndentationError",
     "evalue": "expected an indented block (<ipython-input-3-8a6ab3e1e73f>, line 3)",
     "output_type": "error",
     "traceback": [
      "\u001b[1;36m  File \u001b[1;32m\"<ipython-input-3-8a6ab3e1e73f>\"\u001b[1;36m, line \u001b[1;32m3\u001b[0m\n\u001b[1;33m    print(\"True\")\u001b[0m\n\u001b[1;37m        ^\u001b[0m\n\u001b[1;31mIndentationError\u001b[0m\u001b[1;31m:\u001b[0m expected an indented block\n"
     ]
    }
   ],
   "source": [
    "# If statement below without indentation. Will throw error.\n",
    "if True:\n",
    "print(\"True\")\n",
    "else:\n",
    "print(\"False\")"
   ]
  },
  {
   "cell_type": "markdown",
   "metadata": {
    "id": "UybtAe34Z4U-"
   },
   "source": [
    "**_The above statement executed with error. Error says that after the `if True:` in line 2, it expected indented block in the next line which is missing. Hence the error_**"
   ]
  },
  {
   "cell_type": "code",
   "execution_count": 4,
   "metadata": {
    "id": "xfo6vH6kZ4U_",
    "outputId": "c6b14135-aa4a-49f3-ebcb-4627be67ace4"
   },
   "outputs": [
    {
     "ename": "SyntaxError",
     "evalue": "invalid syntax (<ipython-input-4-b90599039ce6>, line 5)",
     "output_type": "error",
     "traceback": [
      "\u001b[1;36m  File \u001b[1;32m\"<ipython-input-4-b90599039ce6>\"\u001b[1;36m, line \u001b[1;32m5\u001b[0m\n\u001b[1;33m    else:\u001b[0m\n\u001b[1;37m       ^\u001b[0m\n\u001b[1;31mSyntaxError\u001b[0m\u001b[1;31m:\u001b[0m invalid syntax\n"
     ]
    }
   ],
   "source": [
    "# If Statement with multiple statements within the blocks without indentation. Will throw error\n",
    "if True:\n",
    "    print(\"Hello its\")\n",
    "print(\"True\")\n",
    "else:\n",
    "    print(\"Hello its\")\n",
    "print(\"False\")"
   ]
  },
  {
   "cell_type": "markdown",
   "metadata": {
    "id": "xnhsf4LaZ4U_"
   },
   "source": [
    "**_in the above code block, the third line `print(\"True\")` should be indented which is missing. \n",
    "Hence python has considered this line as outside the block for `if True:`. \n",
    "So the `else:` is seen as an else without a corresponding if condition. Hence the error -** `invalid syntax`\n",
    "\n",
    "The above code block with correct indentation is given below, and you can see it works fine."
   ]
  },
  {
   "cell_type": "code",
   "execution_count": 5,
   "metadata": {
    "id": "eWVSQs5oZ4U_",
    "outputId": "c2f8bfac-76cd-4e61-8f14-38594875ef73"
   },
   "outputs": [
    {
     "name": "stdout",
     "output_type": "stream",
     "text": [
      "Hello its\n",
      "True\n"
     ]
    }
   ],
   "source": [
    "# If Statement with multiple statements with indentations\n",
    "if True:\n",
    "    print(\"Hello its\")\n",
    "    print(\"True\")\n",
    "else:\n",
    "    print(\"Hello its\")\n",
    "    print(\"False\")"
   ]
  },
  {
   "cell_type": "markdown",
   "metadata": {
    "id": "ujXkv2zkZ4U_"
   },
   "source": [
    "## Quotations in Python\n",
    "\n",
    "Python accepts single `'`, double `\"` and triple `'''` or `\"\"\"` quotes to denote string literals, as long as the same type of quote starts and ends the string."
   ]
  },
  {
   "cell_type": "code",
   "execution_count": 6,
   "metadata": {
    "id": "fZeR-CjGZ4VA",
    "outputId": "b90f4632-f7e8-47d5-85f0-c0a79c9b9483"
   },
   "outputs": [
    {
     "name": "stdout",
     "output_type": "stream",
     "text": [
      "sunday\n",
      "\n",
      "Today is Sunday.\n",
      "\n",
      "Hello everyone. This para\n",
      "spans multiple\n",
      "lines.\n"
     ]
    }
   ],
   "source": [
    "# String literal with single quote\n",
    "single_word = 'sunday\\n'\n",
    "print(single_word)\n",
    "\n",
    "# String literal using double quotes\n",
    "sentence = \"Today is Sunday.\\n\"\n",
    "print(sentence)\n",
    "\n",
    "# String literal using 3 double quotes. Here you can notice that the sentance spans multiple lines, but its still valid.\n",
    "paragraph = \"\"\"Hello everyone. This para\n",
    "spans multiple\n",
    "lines.\"\"\"\n",
    "print(paragraph)"
   ]
  },
  {
   "cell_type": "markdown",
   "metadata": {
    "id": "MLNm2jUTZ4VA"
   },
   "source": [
    "## Comments in Python\n",
    "\n",
    "Comments can be used to explain Python code and also to make the code more readable.<br>\n",
    "Comments can also be used to prevent execution when testing code.\n",
    "\n",
    "A hash sign `#` that is not inside a string literal begins a comment. All characters after the # and up to the end of the physical line are part of the comment and the Python interpreter ignores them.\n",
    "\n",
    "**_In the statement below, notice how the first line and the string after # in the second line are ignored._**"
   ]
  },
  {
   "cell_type": "code",
   "execution_count": 7,
   "metadata": {
    "id": "kLdeiqBkZ4VA",
    "outputId": "b34b92a7-fd6f-4dd2-8d35-33f01b31d004"
   },
   "outputs": [
    {
     "name": "stdout",
     "output_type": "stream",
     "text": [
      "Hello Python World!\n"
     ]
    }
   ],
   "source": [
    "# First comment\n",
    "print(\"Hello Python World!\") # second comment"
   ]
  },
  {
   "cell_type": "markdown",
   "metadata": {
    "id": "641QiGCbZ4VA"
   },
   "source": [
    "Comments does not have to be text to explain the code, it can also be used to prevent Python from executing code.\n",
    "\n",
    "**_In the code below, the first line is ignored_**"
   ]
  },
  {
   "cell_type": "code",
   "execution_count": 8,
   "metadata": {
    "id": "OhOXB5NMZ4VA",
    "outputId": "a93e3e09-487f-4892-ad81-6c949a7a0a9d"
   },
   "outputs": [
    {
     "name": "stdout",
     "output_type": "stream",
     "text": [
      "Hello Python World!\n"
     ]
    }
   ],
   "source": [
    "# print(\"Hello Python World!\")\n",
    "print(\"Hello Python World!\")"
   ]
  },
  {
   "cell_type": "markdown",
   "metadata": {
    "id": "yEg-_2v3Z4VB"
   },
   "source": [
    "Python does not really have a syntax for multi-line comments. To add a multiline comment you could insert a `#` for each line."
   ]
  },
  {
   "cell_type": "code",
   "execution_count": 9,
   "metadata": {
    "id": "WHMR98FgZ4VB",
    "outputId": "a73d5918-e150-4ba8-c681-ef2d11cd31ca"
   },
   "outputs": [
    {
     "name": "stdout",
     "output_type": "stream",
     "text": [
      "Hello Python World!\n"
     ]
    }
   ],
   "source": [
    "# This is a comment.\n",
    "# Another comment.\n",
    "# Yet another comment.\n",
    "print(\"Hello Python World!\")"
   ]
  },
  {
   "cell_type": "markdown",
   "metadata": {
    "id": "cxOz4mFhZ4VB"
   },
   "source": [
    "Not the same as comment, you can use a multiline string.\n",
    "Python ignores string literals that are not assigned to a variable, you can add a multiline string (triple quotes) in your code, and place your comment inside it."
   ]
  },
  {
   "cell_type": "code",
   "execution_count": 10,
   "metadata": {
    "id": "ePp0uBrbZ4VB",
    "outputId": "77bb90ee-5214-4b58-8a29-a85f66b7e985"
   },
   "outputs": [
    {
     "name": "stdout",
     "output_type": "stream",
     "text": [
      "Hello Python World!\n"
     ]
    }
   ],
   "source": [
    "'''\n",
    "This is a comment.\n",
    "Another comment.\n",
    "Yet another comment.\n",
    "'''\n",
    "print(\"Hello Python World!\")"
   ]
  },
  {
   "cell_type": "markdown",
   "metadata": {
    "id": "JfJ1z919Z4VB"
   },
   "source": [
    "**_In the above code, notice that the first 5 lines are ignored by python, just like it ignores comments._**"
   ]
  },
  {
   "cell_type": "markdown",
   "metadata": {
    "id": "FFkRLVpZZ4VC"
   },
   "source": [
    "## Multiple Statements on a Single Line\n",
    "\n",
    "The semicolon ( `;` ) allows multiple statements on the single line. However, neither statement should start a new code block."
   ]
  },
  {
   "cell_type": "code",
   "execution_count": 11,
   "metadata": {
    "id": "kdIpYvBCZ4VC",
    "outputId": "cfdfc6d4-53c4-42ad-e5ae-2537a47d6f21"
   },
   "outputs": [
    {
     "name": "stdout",
     "output_type": "stream",
     "text": [
      "Hello\n",
      "another statement\n",
      "yet another statement\n"
     ]
    }
   ],
   "source": [
    "print(\"Hello\"); print(\"another statement\"); print(\"yet another statement\");"
   ]
  },
  {
   "cell_type": "markdown",
   "metadata": {
    "id": "Buhz0d8wZ4VC"
   },
   "source": [
    "#### end of the notebook."
   ]
  }
 ],
 "metadata": {
  "colab": {
   "provenance": []
  },
  "kernelspec": {
   "display_name": "Python 3",
   "language": "python",
   "name": "python3"
  },
  "language_info": {
   "codemirror_mode": {
    "name": "ipython",
    "version": 3
   },
   "file_extension": ".py",
   "mimetype": "text/x-python",
   "name": "python",
   "nbconvert_exporter": "python",
   "pygments_lexer": "ipython3",
   "version": "3.6.5"
  }
 },
 "nbformat": 4,
 "nbformat_minor": 1
}
