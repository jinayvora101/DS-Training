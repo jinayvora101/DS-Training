{
 "cells": [
  {
   "cell_type": "code",
   "execution_count": 1,
   "metadata": {},
   "outputs": [],
   "source": [
    "# 1. Find the most frequently occurring value in np.array([3, 3, 4, 4, 4, 3, 2, 4, 6, 5, 3]). Hint: use bincount()\n",
    "# 2. Find how many times does the sequence [8,4] occurs in the following array:\n",
    "#          arr2 = np.array([[2, 6, 8, 4], \n",
    "#                          [8, 4, 8, 4],\n",
    "#                          [4, 5, 8, 3],\n",
    "#                          [6, 8, 4, 3]])\n",
    "# 3. Compare the following two arrays and display a boolean list containing True if the elements in array1 is greater than its\n",
    "# corresponding elements in array2 and False if not:\n",
    "#          a = np.array([155, 69, 187])\n",
    "#          b = np.array([97, 345, 115])\n",
    "# 4. Is 9.3 present in the following array? What about 5.23\n",
    "#         arr4 = np.array([[48, 2.5, 7, 6.9, 101],\n",
    "#                         [4.1, 6, 50, 8.56, 12],\n",
    "#                         [47, 9.3, 9, 5.2, 1],\n",
    "#                         [71, 0.4, 53, 99, 10.5]])\n",
    "# 5. Find the sum of the diagonal elements using np.trace and np.diagonal:\n",
    "#          arr5 = np.array([[155, 89, 14],\n",
    "#                          [34, 32, 62],\n",
    "#                          [1, 49, 47]])\n",
    "# 6. Find the frequency of all the values in the following array:\n",
    "#          arr6 = np.array([6, 23, 58, 6, 18, 23, 18, 94])\n",
    "# 7. Replace elements that are >= 50 to 15\n",
    "#          arr7 = np.array([45.9876, 82.5789, 49.9808, 50.2494])                \n",
    "# 8. Access number 266 from the following matrix:\n",
    "#          arr8 = np.array([[14, 120, 5, 99], \n",
    "#                           [44, 54, 266, 74], \n",
    "#                           [17, 8, 91, 14]])\n",
    "# 9. Stack the following arrays to get a 3-dim array\n",
    "#           arr91 = np.array([1, 2, 3])\n",
    "#           arr92 = np.array([4, 5, 6])\n",
    "# 10. Sort the following array and find the indices of the elements in the sorted array\n",
    "#           arr10 = np.array([10, 67, 12, 7, 34, 98, 283])"
   ]
  },
  {
   "cell_type": "code",
   "execution_count": 2,
   "metadata": {},
   "outputs": [],
   "source": [
    "import numpy as np"
   ]
  },
  {
   "cell_type": "code",
   "execution_count": 3,
   "metadata": {},
   "outputs": [
    {
     "data": {
      "text/plain": [
       "array([0, 0, 1, 4, 4, 1, 1], dtype=int64)"
      ]
     },
     "execution_count": 3,
     "metadata": {},
     "output_type": "execute_result"
    }
   ],
   "source": [
    "## 1.\n",
    "\n",
    "a = np.array([3, 3, 4, 4, 4, 3, 2, 4, 6, 5, 3])\n",
    "np.bincount(a)"
   ]
  },
  {
   "cell_type": "code",
   "execution_count": 9,
   "metadata": {},
   "outputs": [],
   "source": [
    "## 2.\n",
    "\n",
    "a = np.array([[2, 6, 8, 4], \n",
    "              [8, 4, 8, 4],\n",
    "              [4, 5, 8, 3],\n",
    "              [6, 8, 4, 3]])\n",
    "\n",
    "key = np.array([8, 4])\n",
    "\n",
    "def key_checker(a: np.array, key: np.array):\n",
    "    sum = 0\n",
    "    for i in range(4):\n",
    "        for j in range(3):\n",
    "            if np.array_equal(a[i, j:j+2], key):\n",
    "                sum += 1\n",
    "    return sum"
   ]
  },
  {
   "cell_type": "code",
   "execution_count": 25,
   "metadata": {},
   "outputs": [
    {
     "data": {
      "text/plain": [
       "array([ True, False,  True])"
      ]
     },
     "execution_count": 25,
     "metadata": {},
     "output_type": "execute_result"
    }
   ],
   "source": [
    "## 3.\n",
    "\n",
    "a = np.array([155, 69, 187])\n",
    "b = np.array([97, 345, 115])\n",
    "\n",
    "np.greater_equal(a, b)"
   ]
  },
  {
   "cell_type": "code",
   "execution_count": 27,
   "metadata": {},
   "outputs": [
    {
     "data": {
      "text/plain": [
       "False"
      ]
     },
     "execution_count": 27,
     "metadata": {},
     "output_type": "execute_result"
    }
   ],
   "source": [
    "## 4.\n",
    "\n",
    "key = 5.3\n",
    "a = np.array([[48, 2.5, 7, 6.9, 101],\n",
    "              [4.1, 6, 50, 8.56, 12],\n",
    "              [47, 9.3, 9, 5.2, 1],\n",
    "              [71, 0.4, 53, 99, 10.5]])\n",
    "\n",
    "\n",
    "def element_checker(a, key):\n",
    "    for i in a:\n",
    "        for j in i:\n",
    "            if j == key:\n",
    "                return True\n",
    "    return False\n",
    "            \n",
    "element_checker(a, key)"
   ]
  }
 ],
 "metadata": {
  "kernelspec": {
   "display_name": "Python 3",
   "language": "python",
   "name": "python3"
  },
  "language_info": {
   "codemirror_mode": {
    "name": "ipython",
    "version": 3
   },
   "file_extension": ".py",
   "mimetype": "text/x-python",
   "name": "python",
   "nbconvert_exporter": "python",
   "pygments_lexer": "ipython3",
   "version": "3.9.13"
  }
 },
 "nbformat": 4,
 "nbformat_minor": 2
}
