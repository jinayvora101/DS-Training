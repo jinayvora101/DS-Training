{
 "cells": [
  {
   "cell_type": "code",
   "execution_count": 1,
   "metadata": {},
   "outputs": [],
   "source": [
    "# 1. Write a dictionary into a file such that the contents look like this:\n",
    "#      Name:Katie\n",
    "#      Age:29\n",
    "#      Degree:Masters in AI\n",
    "#      University:NYU\n",
    "# 2. Find the maximum value in the following list: num = [11,43,540,555,998,999]\n",
    "# 3. Print the list in reverse order: list1 = [11, 22, 33, 44, 55]\n",
    "# 4. Write a Python code to find the factorial of a given number.\n",
    "# 5. Find the sum of the series upto n terms. If n=4, then the series will be 2 + 22 + 222 + 2222 = 2468\n",
    "# 6. Reverse the contents of the following tuple: tuple1 = (10, 20, 30, 40, 50)\n",
    "# 7. Sort the following tuple of tuples by the 2nd item in each tuple: tuple2 = (('a', 123), ('b', 37), ('c', 45), ('d', 111))\n",
    "# 8. Write a program to iterate both lists simultaneously and display items from list1 in reverse order and items \n",
    "#    from list2 as is.\n",
    "#                         list1 = [1, 2, 3, 4]\n",
    "#                         list2 = [10, 20, 30, 40]\n",
    "# 9. Write a function that takes in a list and a val and removes all occurrences of val and returns the updated list.\n",
    "# 10. Using map(), lambda and count(), create a list which consists of the number of occurence of letter 'a'."
   ]
  },
  {
   "attachments": {},
   "cell_type": "markdown",
   "metadata": {},
   "source": [
    "#### 5."
   ]
  },
  {
   "cell_type": "code",
   "execution_count": 2,
   "metadata": {},
   "outputs": [
    {
     "data": {
      "text/plain": [
       "2468"
      ]
     },
     "execution_count": 2,
     "metadata": {},
     "output_type": "execute_result"
    }
   ],
   "source": [
    "my_func = lambda n: sum(int(\"\".join([\"2\"]*i)) for i in range(1, n+1))\n",
    "\n",
    "my_func(4)"
   ]
  },
  {
   "attachments": {},
   "cell_type": "markdown",
   "metadata": {},
   "source": [
    "#### 6."
   ]
  },
  {
   "cell_type": "code",
   "execution_count": 3,
   "metadata": {},
   "outputs": [
    {
     "data": {
      "text/plain": [
       "(50, 40, 30, 20, 10)"
      ]
     },
     "execution_count": 3,
     "metadata": {},
     "output_type": "execute_result"
    }
   ],
   "source": [
    "tuple1 = (10, 20, 30, 40, 50)\n",
    "\n",
    "rev_tuple = lambda t: t[::-1]\n",
    "\n",
    "rev_tuple(tuple1)"
   ]
  },
  {
   "attachments": {},
   "cell_type": "markdown",
   "metadata": {},
   "source": [
    "#### 7."
   ]
  },
  {
   "cell_type": "code",
   "execution_count": 4,
   "metadata": {},
   "outputs": [],
   "source": [
    "tuple2 = (('a', 123), ('b', 37), ('c', 45), ('d', 111))\n",
    "\n"
   ]
  }
 ],
 "metadata": {
  "kernelspec": {
   "display_name": "Python 3",
   "language": "python",
   "name": "python3"
  },
  "language_info": {
   "codemirror_mode": {
    "name": "ipython",
    "version": 3
   },
   "file_extension": ".py",
   "mimetype": "text/x-python",
   "name": "python",
   "nbconvert_exporter": "python",
   "pygments_lexer": "ipython3",
   "version": "3.9.13"
  }
 },
 "nbformat": 4,
 "nbformat_minor": 2
}
