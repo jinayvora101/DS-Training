{
 "cells": [
  {
   "cell_type": "code",
   "execution_count": null,
   "metadata": {},
   "outputs": [],
   "source": [
    "# 1. Find the largest value in the following array: arr1 = np.array([24, 0,  16, 75, 4, 31, 99])\n",
    "# 2. Find the 3 largest values in the following array: arr2 = np.array([24, 0,  16, 75, 4, 31, 99])\n",
    "# 3. Filter out only the float-type elements from the following array: arr3 = np.array([1, 1.2, 2, 5.6, 7.0, 42.0])\n",
    "# 4. Compute the mean of the following array while ignoring NaN: arr4 = np.array([[120, 5, 34], [37, 3, np.nan]])   \n",
    "# 5. Write a function that calculates the sum of all columns of a 2-D array\n",
    "# 6. Sort the following matrix: arr6 = np.matrix('[44, 12, 19; 22, 3, 1; 4, 65, 8]')\n",
    "# 7. Remove the nans from the following array. Hint: use bitwise operations\n",
    "#                 arr7 = np.array([[101, 2.5, np.nan],\n",
    "#                                 [8.7, 52, np.nan]])\n",
    "# 8. Find the indices of all 0s in the array. Hint: use np.where()\n",
    "#                 arr8 = np.array([1, 0, 4, 0, 3, 1, 0, 5, 5, 0, 6, 7, 0, 5, 9, 8])\n",
    "# 9. Add np.array([[1], [2], [3]]) as a new column in the following matrix:\n",
    "#                 arr9 = np.array([[14, 22, 3], [65, 1, 6], [79, 0, 110]])\n",
    "# 10. Create the following 3-D array:\n",
    "#            [[[ 0  1  2  3]\n",
    "#              [ 4  5  6  7]\n",
    "#              [ 8  9 10 11]\n",
    "#              [12 13 14 15]]\n",
    "\n",
    "#             [[16 17 18 19]\n",
    "#              [20 21 22 23]\n",
    "#             [24 25 26 27]\n",
    "#             [28 29 30 31]]\n",
    "\n",
    "#            [[32 33 34 35]\n",
    "#             [36 37 38 39]\n",
    "#            [40 41 42 43]\n",
    "#            [44 45 46 47]]]\n",
    "# and obtain its diagonal elements in a 2-D array:\n",
    "#           [[ 0  5 10 15]\n",
    "#            [16 21 26 31]\n",
    "#            [32 37 42 47]]"
   ]
  }
 ],
 "metadata": {
  "kernelspec": {
   "display_name": "Python 3",
   "language": "python",
   "name": "python3"
  },
  "language_info": {
   "codemirror_mode": {
    "name": "ipython",
    "version": 3
   },
   "file_extension": ".py",
   "mimetype": "text/x-python",
   "name": "python",
   "nbconvert_exporter": "python",
   "pygments_lexer": "ipython3",
   "version": "3.6.5"
  }
 },
 "nbformat": 4,
 "nbformat_minor": 2
}
