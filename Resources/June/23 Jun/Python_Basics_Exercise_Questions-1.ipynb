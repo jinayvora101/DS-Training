{
 "cells": [
  {
   "cell_type": "code",
   "execution_count": null,
   "metadata": {},
   "outputs": [],
   "source": [
    "# 1. Create a function that prints the statement \"Hello from <name>, employee number: <number>\" using .format()\n",
    "# 2. Write a lambda function that calculates the square of a number if number>0 else None\n",
    "# 3. Write a program to count the number of even numbers and odd numbers in the list: list1 = [30,11, 44, 6, 16, 73, 1]\n",
    "# 4. Write a function to print the following pattern:\n",
    "                  |****\n",
    "                  |*\n",
    "                  |***\n",
    "                  |**\n",
    "                  |*****\n",
    "# 5. Read from sample_text.txt and write its contents into sample_text_copy.txt file\n",
    "# 6. Find the sum of all the numbers in the following list: num = [2,53,6,56,79,99,101]\n",
    "# 7. Sort the numbers in the following list in ascending order: num2 = [11,5,50,80,45]\n",
    "# 8. Write a code to print all the prime numbers between two values.\n",
    "# 9. Write a Python code that takes a number (more than 2 digits) and prints the reverse of it. If number=123456, then \n",
    "#    output=654321\n",
    "# 10. Print the key of the minimum value from the following dictionary:\n",
    "#          sample_dict = {\n",
    "#               'Physics': 182,\n",
    "#               'Math': 45,\n",
    "#               'Biology': 77\n",
    "#                }"
   ]
  },
  {
   "attachments": {},
   "cell_type": "markdown",
   "metadata": {},
   "source": [
    "#### 3."
   ]
  },
  {
   "cell_type": "code",
   "execution_count": 5,
   "metadata": {},
   "outputs": [
    {
     "data": {
      "text/plain": [
       "[[11, 73, 1], [30, 44, 6, 16]]"
      ]
     },
     "execution_count": 5,
     "metadata": {},
     "output_type": "execute_result"
    }
   ],
   "source": [
    "x = [30,11, 44, 6, 16, 73, 1]\n",
    "\n",
    "def odd_even_list(x):\n",
    "    odd, even = [], []\n",
    "    for i in x:\n",
    "        if i%2 == 0:\n",
    "            even += [i]\n",
    "        else:\n",
    "            odd += [i]\n",
    "\n",
    "    return [odd, even]\n",
    "\n",
    "odd_even_list(x)"
   ]
  },
  {
   "attachments": {},
   "cell_type": "markdown",
   "metadata": {},
   "source": [
    "#### 7."
   ]
  },
  {
   "cell_type": "code",
   "execution_count": 3,
   "metadata": {},
   "outputs": [
    {
     "data": {
      "text/plain": [
       "[5, 11, 45, 50, 80]"
      ]
     },
     "execution_count": 3,
     "metadata": {},
     "output_type": "execute_result"
    }
   ],
   "source": [
    "num2 = [11,5,50,80,45]\n",
    "\n",
    "sorted(num2)"
   ]
  },
  {
   "attachments": {},
   "cell_type": "markdown",
   "metadata": {},
   "source": [
    "#### 9. "
   ]
  },
  {
   "cell_type": "code",
   "execution_count": 4,
   "metadata": {},
   "outputs": [
    {
     "data": {
      "text/plain": [
       "(654321, -654321, 0)"
      ]
     },
     "execution_count": 4,
     "metadata": {},
     "output_type": "execute_result"
    }
   ],
   "source": [
    "x, y, z = 123456, -123456, 0\n",
    "\n",
    "rev = lambda x: int(str(x)[::-1]) if str(x)[0] != \"-\" else int(\"-\"+str(-x)[::-1])\n",
    "\n",
    "rev(x), rev(y), rev(z)"
   ]
  }
 ],
 "metadata": {
  "kernelspec": {
   "display_name": "Python 3",
   "language": "python",
   "name": "python3"
  },
  "language_info": {
   "codemirror_mode": {
    "name": "ipython",
    "version": 3
   },
   "file_extension": ".py",
   "mimetype": "text/x-python",
   "name": "python",
   "nbconvert_exporter": "python",
   "pygments_lexer": "ipython3",
   "version": "3.9.13"
  }
 },
 "nbformat": 4,
 "nbformat_minor": 2
}
