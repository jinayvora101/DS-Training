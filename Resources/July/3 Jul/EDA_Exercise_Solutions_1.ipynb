{
  "cells": [
    {
      "cell_type": "code",
      "execution_count": null,
      "metadata": {
        "id": "MpshtBWS3hfe"
      },
      "outputs": [],
      "source": [
        "import pandas as pd\n",
        "import numpy as np"
      ],
      "id": "MpshtBWS3hfe"
    },
    {
      "cell_type": "code",
      "source": [
        "df = pd.read_csv(\"Ecom_data.csv\")"
      ],
      "metadata": {
        "id": "P-GVfW8e4daU"
      },
      "id": "P-GVfW8e4daU",
      "execution_count": null,
      "outputs": []
    },
    {
      "cell_type": "code",
      "source": [
        "df.head()"
      ],
      "metadata": {
        "colab": {
          "base_uri": "https://localhost:8080/",
          "height": 426
        },
        "id": "gO1cGhXN6PbG",
        "outputId": "214c5b9d-b39f-4996-d489-1a81b1f757f4"
      },
      "id": "gO1cGhXN6PbG",
      "execution_count": null,
      "outputs": [
        {
          "output_type": "execute_result",
          "data": {
            "text/plain": [
              "  marketplace  customer_id       review_id  product_id  product_parent  \\\n",
              "0          US     17747349  R2EI7QLPK4LF7U  B00U7LCE6A       106182406   \n",
              "1          US     10956619  R1W5OMFK1Q3I3O  B00HRJMOM4       162269768   \n",
              "2          US     13132245   RPZWSYWRP92GI  B00P31G9PQ       831433899   \n",
              "3          US     35717248  R2WQWM04XHD9US  B00FGDEPDY       991059534   \n",
              "4          US     17710652  R1WSPK2RA2PDEF  B00FZ0FK0U       574904556   \n",
              "\n",
              "                                       product_title  product_category  \\\n",
              "0                           CCleaner Free [Download]  Digital_Software   \n",
              "1                 ResumeMaker Professional Deluxe 18  Digital_Software   \n",
              "2                          Amazon Drive Desktop [PC]  Digital_Software   \n",
              "3         Norton Internet Security 1 User 3 Licenses  Digital_Software   \n",
              "4  SecureAnywhere Intermet Security Complete 5 De...  Digital_Software   \n",
              "\n",
              "   star_rating  helpful_votes  total_votes vine verified_purchase  \\\n",
              "0            4              0            0    N                 Y   \n",
              "1            3              0            0    N                 Y   \n",
              "2            1              1            2    N                 Y   \n",
              "3            5              0            0    N                 Y   \n",
              "4            4              1            2    N                 Y   \n",
              "\n",
              "                               review_headline  \\\n",
              "0                                   Four Stars   \n",
              "1                                  Three Stars   \n",
              "2                                     One Star   \n",
              "3                           Works as Expected!   \n",
              "4  Great antivirus. Worthless customer support   \n",
              "\n",
              "                                         review_body review_date  \n",
              "0                                     So far so good  2015-08-31  \n",
              "1                      Needs a little more work.....  2015-08-31  \n",
              "2                                     Please cancel.  2015-08-31  \n",
              "3                                 Works as Expected!  2015-08-31  \n",
              "4  I've had Webroot for a few years. It expired a...  2015-08-31  "
            ],
            "text/html": [
              "\n",
              "  <div id=\"df-4ac33a31-357e-4880-bd5c-b26fcc77612e\">\n",
              "    <div class=\"colab-df-container\">\n",
              "      <div>\n",
              "<style scoped>\n",
              "    .dataframe tbody tr th:only-of-type {\n",
              "        vertical-align: middle;\n",
              "    }\n",
              "\n",
              "    .dataframe tbody tr th {\n",
              "        vertical-align: top;\n",
              "    }\n",
              "\n",
              "    .dataframe thead th {\n",
              "        text-align: right;\n",
              "    }\n",
              "</style>\n",
              "<table border=\"1\" class=\"dataframe\">\n",
              "  <thead>\n",
              "    <tr style=\"text-align: right;\">\n",
              "      <th></th>\n",
              "      <th>marketplace</th>\n",
              "      <th>customer_id</th>\n",
              "      <th>review_id</th>\n",
              "      <th>product_id</th>\n",
              "      <th>product_parent</th>\n",
              "      <th>product_title</th>\n",
              "      <th>product_category</th>\n",
              "      <th>star_rating</th>\n",
              "      <th>helpful_votes</th>\n",
              "      <th>total_votes</th>\n",
              "      <th>vine</th>\n",
              "      <th>verified_purchase</th>\n",
              "      <th>review_headline</th>\n",
              "      <th>review_body</th>\n",
              "      <th>review_date</th>\n",
              "    </tr>\n",
              "  </thead>\n",
              "  <tbody>\n",
              "    <tr>\n",
              "      <th>0</th>\n",
              "      <td>US</td>\n",
              "      <td>17747349</td>\n",
              "      <td>R2EI7QLPK4LF7U</td>\n",
              "      <td>B00U7LCE6A</td>\n",
              "      <td>106182406</td>\n",
              "      <td>CCleaner Free [Download]</td>\n",
              "      <td>Digital_Software</td>\n",
              "      <td>4</td>\n",
              "      <td>0</td>\n",
              "      <td>0</td>\n",
              "      <td>N</td>\n",
              "      <td>Y</td>\n",
              "      <td>Four Stars</td>\n",
              "      <td>So far so good</td>\n",
              "      <td>2015-08-31</td>\n",
              "    </tr>\n",
              "    <tr>\n",
              "      <th>1</th>\n",
              "      <td>US</td>\n",
              "      <td>10956619</td>\n",
              "      <td>R1W5OMFK1Q3I3O</td>\n",
              "      <td>B00HRJMOM4</td>\n",
              "      <td>162269768</td>\n",
              "      <td>ResumeMaker Professional Deluxe 18</td>\n",
              "      <td>Digital_Software</td>\n",
              "      <td>3</td>\n",
              "      <td>0</td>\n",
              "      <td>0</td>\n",
              "      <td>N</td>\n",
              "      <td>Y</td>\n",
              "      <td>Three Stars</td>\n",
              "      <td>Needs a little more work.....</td>\n",
              "      <td>2015-08-31</td>\n",
              "    </tr>\n",
              "    <tr>\n",
              "      <th>2</th>\n",
              "      <td>US</td>\n",
              "      <td>13132245</td>\n",
              "      <td>RPZWSYWRP92GI</td>\n",
              "      <td>B00P31G9PQ</td>\n",
              "      <td>831433899</td>\n",
              "      <td>Amazon Drive Desktop [PC]</td>\n",
              "      <td>Digital_Software</td>\n",
              "      <td>1</td>\n",
              "      <td>1</td>\n",
              "      <td>2</td>\n",
              "      <td>N</td>\n",
              "      <td>Y</td>\n",
              "      <td>One Star</td>\n",
              "      <td>Please cancel.</td>\n",
              "      <td>2015-08-31</td>\n",
              "    </tr>\n",
              "    <tr>\n",
              "      <th>3</th>\n",
              "      <td>US</td>\n",
              "      <td>35717248</td>\n",
              "      <td>R2WQWM04XHD9US</td>\n",
              "      <td>B00FGDEPDY</td>\n",
              "      <td>991059534</td>\n",
              "      <td>Norton Internet Security 1 User 3 Licenses</td>\n",
              "      <td>Digital_Software</td>\n",
              "      <td>5</td>\n",
              "      <td>0</td>\n",
              "      <td>0</td>\n",
              "      <td>N</td>\n",
              "      <td>Y</td>\n",
              "      <td>Works as Expected!</td>\n",
              "      <td>Works as Expected!</td>\n",
              "      <td>2015-08-31</td>\n",
              "    </tr>\n",
              "    <tr>\n",
              "      <th>4</th>\n",
              "      <td>US</td>\n",
              "      <td>17710652</td>\n",
              "      <td>R1WSPK2RA2PDEF</td>\n",
              "      <td>B00FZ0FK0U</td>\n",
              "      <td>574904556</td>\n",
              "      <td>SecureAnywhere Intermet Security Complete 5 De...</td>\n",
              "      <td>Digital_Software</td>\n",
              "      <td>4</td>\n",
              "      <td>1</td>\n",
              "      <td>2</td>\n",
              "      <td>N</td>\n",
              "      <td>Y</td>\n",
              "      <td>Great antivirus. Worthless customer support</td>\n",
              "      <td>I've had Webroot for a few years. It expired a...</td>\n",
              "      <td>2015-08-31</td>\n",
              "    </tr>\n",
              "  </tbody>\n",
              "</table>\n",
              "</div>\n",
              "      <button class=\"colab-df-convert\" onclick=\"convertToInteractive('df-4ac33a31-357e-4880-bd5c-b26fcc77612e')\"\n",
              "              title=\"Convert this dataframe to an interactive table.\"\n",
              "              style=\"display:none;\">\n",
              "        \n",
              "  <svg xmlns=\"http://www.w3.org/2000/svg\" height=\"24px\"viewBox=\"0 0 24 24\"\n",
              "       width=\"24px\">\n",
              "    <path d=\"M0 0h24v24H0V0z\" fill=\"none\"/>\n",
              "    <path d=\"M18.56 5.44l.94 2.06.94-2.06 2.06-.94-2.06-.94-.94-2.06-.94 2.06-2.06.94zm-11 1L8.5 8.5l.94-2.06 2.06-.94-2.06-.94L8.5 2.5l-.94 2.06-2.06.94zm10 10l.94 2.06.94-2.06 2.06-.94-2.06-.94-.94-2.06-.94 2.06-2.06.94z\"/><path d=\"M17.41 7.96l-1.37-1.37c-.4-.4-.92-.59-1.43-.59-.52 0-1.04.2-1.43.59L10.3 9.45l-7.72 7.72c-.78.78-.78 2.05 0 2.83L4 21.41c.39.39.9.59 1.41.59.51 0 1.02-.2 1.41-.59l7.78-7.78 2.81-2.81c.8-.78.8-2.07 0-2.86zM5.41 20L4 18.59l7.72-7.72 1.47 1.35L5.41 20z\"/>\n",
              "  </svg>\n",
              "      </button>\n",
              "      \n",
              "  <style>\n",
              "    .colab-df-container {\n",
              "      display:flex;\n",
              "      flex-wrap:wrap;\n",
              "      gap: 12px;\n",
              "    }\n",
              "\n",
              "    .colab-df-convert {\n",
              "      background-color: #E8F0FE;\n",
              "      border: none;\n",
              "      border-radius: 50%;\n",
              "      cursor: pointer;\n",
              "      display: none;\n",
              "      fill: #1967D2;\n",
              "      height: 32px;\n",
              "      padding: 0 0 0 0;\n",
              "      width: 32px;\n",
              "    }\n",
              "\n",
              "    .colab-df-convert:hover {\n",
              "      background-color: #E2EBFA;\n",
              "      box-shadow: 0px 1px 2px rgba(60, 64, 67, 0.3), 0px 1px 3px 1px rgba(60, 64, 67, 0.15);\n",
              "      fill: #174EA6;\n",
              "    }\n",
              "\n",
              "    [theme=dark] .colab-df-convert {\n",
              "      background-color: #3B4455;\n",
              "      fill: #D2E3FC;\n",
              "    }\n",
              "\n",
              "    [theme=dark] .colab-df-convert:hover {\n",
              "      background-color: #434B5C;\n",
              "      box-shadow: 0px 1px 3px 1px rgba(0, 0, 0, 0.15);\n",
              "      filter: drop-shadow(0px 1px 2px rgba(0, 0, 0, 0.3));\n",
              "      fill: #FFFFFF;\n",
              "    }\n",
              "  </style>\n",
              "\n",
              "      <script>\n",
              "        const buttonEl =\n",
              "          document.querySelector('#df-4ac33a31-357e-4880-bd5c-b26fcc77612e button.colab-df-convert');\n",
              "        buttonEl.style.display =\n",
              "          google.colab.kernel.accessAllowed ? 'block' : 'none';\n",
              "\n",
              "        async function convertToInteractive(key) {\n",
              "          const element = document.querySelector('#df-4ac33a31-357e-4880-bd5c-b26fcc77612e');\n",
              "          const dataTable =\n",
              "            await google.colab.kernel.invokeFunction('convertToInteractive',\n",
              "                                                     [key], {});\n",
              "          if (!dataTable) return;\n",
              "\n",
              "          const docLinkHtml = 'Like what you see? Visit the ' +\n",
              "            '<a target=\"_blank\" href=https://colab.research.google.com/notebooks/data_table.ipynb>data table notebook</a>'\n",
              "            + ' to learn more about interactive tables.';\n",
              "          element.innerHTML = '';\n",
              "          dataTable['output_type'] = 'display_data';\n",
              "          await google.colab.output.renderOutput(dataTable, element);\n",
              "          const docLink = document.createElement('div');\n",
              "          docLink.innerHTML = docLinkHtml;\n",
              "          element.appendChild(docLink);\n",
              "        }\n",
              "      </script>\n",
              "    </div>\n",
              "  </div>\n",
              "  "
            ]
          },
          "metadata": {},
          "execution_count": 4
        }
      ]
    },
    {
      "cell_type": "code",
      "source": [
        "df.info()"
      ],
      "metadata": {
        "colab": {
          "base_uri": "https://localhost:8080/"
        },
        "id": "dDg7uysp6P-C",
        "outputId": "23aa61b0-86e3-43a6-f714-46241221d4f2"
      },
      "id": "dDg7uysp6P-C",
      "execution_count": null,
      "outputs": [
        {
          "output_type": "stream",
          "name": "stdout",
          "text": [
            "<class 'pandas.core.frame.DataFrame'>\n",
            "RangeIndex: 394870 entries, 0 to 394869\n",
            "Data columns (total 15 columns):\n",
            " #   Column             Non-Null Count   Dtype \n",
            "---  ------             --------------   ----- \n",
            " 0   marketplace        394870 non-null  object\n",
            " 1   customer_id        394870 non-null  int64 \n",
            " 2   review_id          394870 non-null  object\n",
            " 3   product_id         394870 non-null  object\n",
            " 4   product_parent     394870 non-null  int64 \n",
            " 5   product_title      394870 non-null  object\n",
            " 6   product_category   394870 non-null  object\n",
            " 7   star_rating        394870 non-null  int64 \n",
            " 8   helpful_votes      394870 non-null  int64 \n",
            " 9   total_votes        394870 non-null  int64 \n",
            " 10  vine               394870 non-null  object\n",
            " 11  verified_purchase  394870 non-null  object\n",
            " 12  review_headline    394865 non-null  object\n",
            " 13  review_body        394866 non-null  object\n",
            " 14  review_date        394861 non-null  object\n",
            "dtypes: int64(5), object(10)\n",
            "memory usage: 45.2+ MB\n"
          ]
        }
      ]
    },
    {
      "cell_type": "code",
      "execution_count": null,
      "metadata": {
        "colab": {
          "base_uri": "https://localhost:8080/",
          "height": 423
        },
        "id": "d6LDIlf73hfh",
        "outputId": "7e8e9c69-73bc-4bdb-8f2d-f0f3f6de5965"
      },
      "outputs": [
        {
          "output_type": "execute_result",
          "data": {
            "text/plain": [
              "<Axes: ylabel='star_rating'>"
            ]
          },
          "metadata": {},
          "execution_count": 40
        },
        {
          "output_type": "display_data",
          "data": {
            "text/plain": [
              "<Figure size 640x480 with 1 Axes>"
            ],
            "image/png": "[encoded data removed]"
          },
          "metadata": {}
        }
      ],
      "source": [
        "# 1. Analyze the distribution of star ratings in the given dataset.\n",
        "\n",
        "rating_count = df['star_rating'].value_counts()\n",
        "# Plot the bar graph\n",
        "rating_count.plot(kind='pie')"
      ],
      "id": "d6LDIlf73hfh"
    },
    {
      "cell_type": "code",
      "execution_count": null,
      "metadata": {
        "id": "991auvs73hfi"
      },
      "outputs": [],
      "source": [
        "# 2. Identify the highest and lowest ratings given by the customers for each kind of product.\n",
        "\n",
        "max_ratings = df.groupby('product_category')['star_rating'].max()\n",
        "min_ratings = df.groupby('product_category')['star_rating'].min()"
      ],
      "id": "991auvs73hfi"
    },
    {
      "cell_type": "code",
      "source": [
        "max_ratings"
      ],
      "metadata": {
        "colab": {
          "base_uri": "https://localhost:8080/"
        },
        "id": "5h8QITWP8JYb",
        "outputId": "2c4d0c2e-396c-4892-ebc3-c0f87e1cb3ac"
      },
      "id": "5h8QITWP8JYb",
      "execution_count": null,
      "outputs": [
        {
          "output_type": "execute_result",
          "data": {
            "text/plain": [
              "product_category\n",
              "Digital_Software       5\n",
              "Digital_Video_Games    5\n",
              "Gift Card              5\n",
              "Name: star_rating, dtype: int64"
            ]
          },
          "metadata": {},
          "execution_count": 12
        }
      ]
    },
    {
      "cell_type": "code",
      "source": [
        "min_ratings"
      ],
      "metadata": {
        "colab": {
          "base_uri": "https://localhost:8080/"
        },
        "id": "XVWtuV1I8J3G",
        "outputId": "af714397-b447-4485-c710-dd3ce3678332"
      },
      "id": "XVWtuV1I8J3G",
      "execution_count": null,
      "outputs": [
        {
          "output_type": "execute_result",
          "data": {
            "text/plain": [
              "product_category\n",
              "Digital_Software       1\n",
              "Digital_Video_Games    1\n",
              "Gift Card              1\n",
              "Name: star_rating, dtype: int64"
            ]
          },
          "metadata": {},
          "execution_count": 13
        }
      ]
    },
    {
      "cell_type": "code",
      "source": [
        "prod_cat_ratings = pd.concat([max_ratings,min_ratings], axis=1)"
      ],
      "metadata": {
        "id": "GjNcM0T27zb9"
      },
      "id": "GjNcM0T27zb9",
      "execution_count": null,
      "outputs": []
    },
    {
      "cell_type": "code",
      "source": [
        "prod_cat_ratings"
      ],
      "metadata": {
        "colab": {
          "base_uri": "https://localhost:8080/",
          "height": 175
        },
        "id": "Q_LcSM0H8Ch0",
        "outputId": "4339b08f-e128-45bf-d8a9-12d35b2ad2d9"
      },
      "id": "Q_LcSM0H8Ch0",
      "execution_count": null,
      "outputs": [
        {
          "output_type": "execute_result",
          "data": {
            "text/plain": [
              "                     star_rating  star_rating\n",
              "product_category                             \n",
              "Digital_Software               5            1\n",
              "Digital_Video_Games            5            1\n",
              "Gift Card                      5            1"
            ],
            "text/html": [
              "\n",
              "  <div id=\"df-b24e5c64-4dbe-46ca-8a03-f4af06fe0244\">\n",
              "    <div class=\"colab-df-container\">\n",
              "      <div>\n",
              "<style scoped>\n",
              "    .dataframe tbody tr th:only-of-type {\n",
              "        vertical-align: middle;\n",
              "    }\n",
              "\n",
              "    .dataframe tbody tr th {\n",
              "        vertical-align: top;\n",
              "    }\n",
              "\n",
              "    .dataframe thead th {\n",
              "        text-align: right;\n",
              "    }\n",
              "</style>\n",
              "<table border=\"1\" class=\"dataframe\">\n",
              "  <thead>\n",
              "    <tr style=\"text-align: right;\">\n",
              "      <th></th>\n",
              "      <th>star_rating</th>\n",
              "      <th>star_rating</th>\n",
              "    </tr>\n",
              "    <tr>\n",
              "      <th>product_category</th>\n",
              "      <th></th>\n",
              "      <th></th>\n",
              "    </tr>\n",
              "  </thead>\n",
              "  <tbody>\n",
              "    <tr>\n",
              "      <th>Digital_Software</th>\n",
              "      <td>5</td>\n",
              "      <td>1</td>\n",
              "    </tr>\n",
              "    <tr>\n",
              "      <th>Digital_Video_Games</th>\n",
              "      <td>5</td>\n",
              "      <td>1</td>\n",
              "    </tr>\n",
              "    <tr>\n",
              "      <th>Gift Card</th>\n",
              "      <td>5</td>\n",
              "      <td>1</td>\n",
              "    </tr>\n",
              "  </tbody>\n",
              "</table>\n",
              "</div>\n",
              "      <button class=\"colab-df-convert\" onclick=\"convertToInteractive('df-b24e5c64-4dbe-46ca-8a03-f4af06fe0244')\"\n",
              "              title=\"Convert this dataframe to an interactive table.\"\n",
              "              style=\"display:none;\">\n",
              "        \n",
              "  <svg xmlns=\"http://www.w3.org/2000/svg\" height=\"24px\"viewBox=\"0 0 24 24\"\n",
              "       width=\"24px\">\n",
              "    <path d=\"M0 0h24v24H0V0z\" fill=\"none\"/>\n",
              "    <path d=\"M18.56 5.44l.94 2.06.94-2.06 2.06-.94-2.06-.94-.94-2.06-.94 2.06-2.06.94zm-11 1L8.5 8.5l.94-2.06 2.06-.94-2.06-.94L8.5 2.5l-.94 2.06-2.06.94zm10 10l.94 2.06.94-2.06 2.06-.94-2.06-.94-.94-2.06-.94 2.06-2.06.94z\"/><path d=\"M17.41 7.96l-1.37-1.37c-.4-.4-.92-.59-1.43-.59-.52 0-1.04.2-1.43.59L10.3 9.45l-7.72 7.72c-.78.78-.78 2.05 0 2.83L4 21.41c.39.39.9.59 1.41.59.51 0 1.02-.2 1.41-.59l7.78-7.78 2.81-2.81c.8-.78.8-2.07 0-2.86zM5.41 20L4 18.59l7.72-7.72 1.47 1.35L5.41 20z\"/>\n",
              "  </svg>\n",
              "      </button>\n",
              "      \n",
              "  <style>\n",
              "    .colab-df-container {\n",
              "      display:flex;\n",
              "      flex-wrap:wrap;\n",
              "      gap: 12px;\n",
              "    }\n",
              "\n",
              "    .colab-df-convert {\n",
              "      background-color: #E8F0FE;\n",
              "      border: none;\n",
              "      border-radius: 50%;\n",
              "      cursor: pointer;\n",
              "      display: none;\n",
              "      fill: #1967D2;\n",
              "      height: 32px;\n",
              "      padding: 0 0 0 0;\n",
              "      width: 32px;\n",
              "    }\n",
              "\n",
              "    .colab-df-convert:hover {\n",
              "      background-color: #E2EBFA;\n",
              "      box-shadow: 0px 1px 2px rgba(60, 64, 67, 0.3), 0px 1px 3px 1px rgba(60, 64, 67, 0.15);\n",
              "      fill: #174EA6;\n",
              "    }\n",
              "\n",
              "    [theme=dark] .colab-df-convert {\n",
              "      background-color: #3B4455;\n",
              "      fill: #D2E3FC;\n",
              "    }\n",
              "\n",
              "    [theme=dark] .colab-df-convert:hover {\n",
              "      background-color: #434B5C;\n",
              "      box-shadow: 0px 1px 3px 1px rgba(0, 0, 0, 0.15);\n",
              "      filter: drop-shadow(0px 1px 2px rgba(0, 0, 0, 0.3));\n",
              "      fill: #FFFFFF;\n",
              "    }\n",
              "  </style>\n",
              "\n",
              "      <script>\n",
              "        const buttonEl =\n",
              "          document.querySelector('#df-b24e5c64-4dbe-46ca-8a03-f4af06fe0244 button.colab-df-convert');\n",
              "        buttonEl.style.display =\n",
              "          google.colab.kernel.accessAllowed ? 'block' : 'none';\n",
              "\n",
              "        async function convertToInteractive(key) {\n",
              "          const element = document.querySelector('#df-b24e5c64-4dbe-46ca-8a03-f4af06fe0244');\n",
              "          const dataTable =\n",
              "            await google.colab.kernel.invokeFunction('convertToInteractive',\n",
              "                                                     [key], {});\n",
              "          if (!dataTable) return;\n",
              "\n",
              "          const docLinkHtml = 'Like what you see? Visit the ' +\n",
              "            '<a target=\"_blank\" href=https://colab.research.google.com/notebooks/data_table.ipynb>data table notebook</a>'\n",
              "            + ' to learn more about interactive tables.';\n",
              "          element.innerHTML = '';\n",
              "          dataTable['output_type'] = 'display_data';\n",
              "          await google.colab.output.renderOutput(dataTable, element);\n",
              "          const docLink = document.createElement('div');\n",
              "          docLink.innerHTML = docLinkHtml;\n",
              "          element.appendChild(docLink);\n",
              "        }\n",
              "      </script>\n",
              "    </div>\n",
              "  </div>\n",
              "  "
            ]
          },
          "metadata": {},
          "execution_count": 11
        }
      ]
    },
    {
      "cell_type": "code",
      "execution_count": null,
      "metadata": {
        "colab": {
          "base_uri": "https://localhost:8080/"
        },
        "id": "zUb7YlC43hfj",
        "outputId": "2365f21b-7195-4180-af31-94bee2347cc6"
      },
      "outputs": [
        {
          "output_type": "stream",
          "name": "stdout",
          "text": [
            "Customer ID with the highest number of ratings:\n",
            "21925455    95\n",
            "Name: customer_id, dtype: int64\n",
            "Number of ratings: 95\n"
          ]
        }
      ],
      "source": [
        "# 3. Identify the customer who has rated maximum number of products, and the number of such products that they've rated.\n",
        "\n",
        "# Count the number of ratings for each customer\n",
        "ratings_per_customer = df['customer_id'].value_counts(ascending=False)\n",
        "# Find the maximum count of ratings\n",
        "max_ratings_count = ratings_per_customer.max()\n",
        "#Find the customer with highest no.of ratings\n",
        "customers_with_max_ratings = ratings_per_customer[ratings_per_customer == max_ratings_count]\n",
        "\n",
        "print(\"Customer ID with the highest number of ratings:\")\n",
        "print(customers_with_max_ratings)\n",
        "\n",
        "print(\"Number of ratings:\", max_ratings_count)"
      ],
      "id": "zUb7YlC43hfj"
    },
    {
      "cell_type": "code",
      "execution_count": null,
      "metadata": {
        "colab": {
          "base_uri": "https://localhost:8080/"
        },
        "id": "6Q9d79G63hfj",
        "outputId": "071be845-5fc2-4800-ab35-fc6ae7478bbd"
      },
      "outputs": [
        {
          "output_type": "stream",
          "name": "stdout",
          "text": [
            "No. of users who have rated atleast 50 products :  7\n"
          ]
        }
      ],
      "source": [
        "# 4. How many users have rated atleast 50 products?\n",
        "\n",
        "no_of_rated_products_per_user = df.groupby('customer_id')['star_rating'].count().sort_values(ascending=False)\n",
        "c = sum(no_of_rated_products_per_user >= 50)\n",
        "print(f'No. of users who have rated atleast 50 products : ', c)"
      ],
      "id": "6Q9d79G63hfj"
    },
    {
      "cell_type": "code",
      "execution_count": null,
      "metadata": {
        "colab": {
          "base_uri": "https://localhost:8080/"
        },
        "id": "7nt2s5q43hfj",
        "outputId": "2786be6d-0ade-45f2-bcfc-a8c3929247be"
      },
      "outputs": [
        {
          "output_type": "execute_result",
          "data": {
            "text/plain": [
              "product_title\n",
              "Amazon.com eGift Cards    36870\n",
              "Name: star_rating, dtype: int64"
            ]
          },
          "metadata": {},
          "execution_count": 21
        }
      ],
      "source": [
        "# 5. Which is the most popular product?\n",
        "\n",
        "no_of_rate_perproduct= df.groupby('product_title')['star_rating'].count().sort_values(ascending=False)\n",
        "no_of_rate_perproduct[:1]"
      ],
      "id": "7nt2s5q43hfj"
    },
    {
      "cell_type": "code",
      "execution_count": null,
      "metadata": {
        "colab": {
          "base_uri": "https://localhost:8080/"
        },
        "id": "0q6GDurG3hfk",
        "outputId": "6e95cdb1-f765-4d52-d6bb-206728554628"
      },
      "outputs": [
        {
          "output_type": "stream",
          "name": "stdout",
          "text": [
            "No. of products with more than 6500 ratings: 7\n",
            "\n"
          ]
        }
      ],
      "source": [
        "# 6. How many products in the given data have received more than 6500 ratings?\n",
        "\n",
        "c = sum(no_of_rate_perproduct >= 6500)\n",
        "print('No. of products with more than 6500 ratings: {}\\n'.format(c))"
      ],
      "id": "0q6GDurG3hfk"
    },
    {
      "cell_type": "code",
      "source": [
        "df['verified_purchase'].value_counts()"
      ],
      "metadata": {
        "colab": {
          "base_uri": "https://localhost:8080/"
        },
        "id": "0ERcid9W_3oB",
        "outputId": "8904315e-be5a-44b3-ba19-9a6001d05b48"
      },
      "id": "0ERcid9W_3oB",
      "execution_count": null,
      "outputs": [
        {
          "output_type": "execute_result",
          "data": {
            "text/plain": [
              "Y    329627\n",
              "N     65243\n",
              "Name: verified_purchase, dtype: int64"
            ]
          },
          "metadata": {},
          "execution_count": 29
        }
      ]
    },
    {
      "cell_type": "code",
      "execution_count": null,
      "metadata": {
        "colab": {
          "base_uri": "https://localhost:8080/",
          "height": 209
        },
        "id": "XDYE5ix33hfl",
        "outputId": "199ce355-ac77-455d-ae16-0dd68ff06497"
      },
      "outputs": [
        {
          "output_type": "stream",
          "name": "stderr",
          "text": [
            "<ipython-input-36-a8bd93869707>:4: FutureWarning: Indexing with multiple keys (implicitly converted to a tuple of keys) will be deprecated, use a list instead.\n",
            "  unv_purch_grp = unv_perch.groupby('product_category')['verified_purchase','star_rating'].agg({'verified_purchase':'count', 'star_rating':'mean'})\n"
          ]
        },
        {
          "output_type": "execute_result",
          "data": {
            "text/plain": [
              "                     verified_purchase  star_rating\n",
              "product_category                                   \n",
              "Digital_Software                 31154     3.531746\n",
              "Digital_Video_Games              21068     3.433169\n",
              "Gift Card                        13021     4.578143"
            ],
            "text/html": [
              "\n",
              "  <div id=\"df-84a8d779-55af-4300-a8df-dfb8e3b04d43\">\n",
              "    <div class=\"colab-df-container\">\n",
              "      <div>\n",
              "<style scoped>\n",
              "    .dataframe tbody tr th:only-of-type {\n",
              "        vertical-align: middle;\n",
              "    }\n",
              "\n",
              "    .dataframe tbody tr th {\n",
              "        vertical-align: top;\n",
              "    }\n",
              "\n",
              "    .dataframe thead th {\n",
              "        text-align: right;\n",
              "    }\n",
              "</style>\n",
              "<table border=\"1\" class=\"dataframe\">\n",
              "  <thead>\n",
              "    <tr style=\"text-align: right;\">\n",
              "      <th></th>\n",
              "      <th>verified_purchase</th>\n",
              "      <th>star_rating</th>\n",
              "    </tr>\n",
              "    <tr>\n",
              "      <th>product_category</th>\n",
              "      <th></th>\n",
              "      <th></th>\n",
              "    </tr>\n",
              "  </thead>\n",
              "  <tbody>\n",
              "    <tr>\n",
              "      <th>Digital_Software</th>\n",
              "      <td>31154</td>\n",
              "      <td>3.531746</td>\n",
              "    </tr>\n",
              "    <tr>\n",
              "      <th>Digital_Video_Games</th>\n",
              "      <td>21068</td>\n",
              "      <td>3.433169</td>\n",
              "    </tr>\n",
              "    <tr>\n",
              "      <th>Gift Card</th>\n",
              "      <td>13021</td>\n",
              "      <td>4.578143</td>\n",
              "    </tr>\n",
              "  </tbody>\n",
              "</table>\n",
              "</div>\n",
              "      <button class=\"colab-df-convert\" onclick=\"convertToInteractive('df-84a8d779-55af-4300-a8df-dfb8e3b04d43')\"\n",
              "              title=\"Convert this dataframe to an interactive table.\"\n",
              "              style=\"display:none;\">\n",
              "        \n",
              "  <svg xmlns=\"http://www.w3.org/2000/svg\" height=\"24px\"viewBox=\"0 0 24 24\"\n",
              "       width=\"24px\">\n",
              "    <path d=\"M0 0h24v24H0V0z\" fill=\"none\"/>\n",
              "    <path d=\"M18.56 5.44l.94 2.06.94-2.06 2.06-.94-2.06-.94-.94-2.06-.94 2.06-2.06.94zm-11 1L8.5 8.5l.94-2.06 2.06-.94-2.06-.94L8.5 2.5l-.94 2.06-2.06.94zm10 10l.94 2.06.94-2.06 2.06-.94-2.06-.94-.94-2.06-.94 2.06-2.06.94z\"/><path d=\"M17.41 7.96l-1.37-1.37c-.4-.4-.92-.59-1.43-.59-.52 0-1.04.2-1.43.59L10.3 9.45l-7.72 7.72c-.78.78-.78 2.05 0 2.83L4 21.41c.39.39.9.59 1.41.59.51 0 1.02-.2 1.41-.59l7.78-7.78 2.81-2.81c.8-.78.8-2.07 0-2.86zM5.41 20L4 18.59l7.72-7.72 1.47 1.35L5.41 20z\"/>\n",
              "  </svg>\n",
              "      </button>\n",
              "      \n",
              "  <style>\n",
              "    .colab-df-container {\n",
              "      display:flex;\n",
              "      flex-wrap:wrap;\n",
              "      gap: 12px;\n",
              "    }\n",
              "\n",
              "    .colab-df-convert {\n",
              "      background-color: #E8F0FE;\n",
              "      border: none;\n",
              "      border-radius: 50%;\n",
              "      cursor: pointer;\n",
              "      display: none;\n",
              "      fill: #1967D2;\n",
              "      height: 32px;\n",
              "      padding: 0 0 0 0;\n",
              "      width: 32px;\n",
              "    }\n",
              "\n",
              "    .colab-df-convert:hover {\n",
              "      background-color: #E2EBFA;\n",
              "      box-shadow: 0px 1px 2px rgba(60, 64, 67, 0.3), 0px 1px 3px 1px rgba(60, 64, 67, 0.15);\n",
              "      fill: #174EA6;\n",
              "    }\n",
              "\n",
              "    [theme=dark] .colab-df-convert {\n",
              "      background-color: #3B4455;\n",
              "      fill: #D2E3FC;\n",
              "    }\n",
              "\n",
              "    [theme=dark] .colab-df-convert:hover {\n",
              "      background-color: #434B5C;\n",
              "      box-shadow: 0px 1px 3px 1px rgba(0, 0, 0, 0.15);\n",
              "      filter: drop-shadow(0px 1px 2px rgba(0, 0, 0, 0.3));\n",
              "      fill: #FFFFFF;\n",
              "    }\n",
              "  </style>\n",
              "\n",
              "      <script>\n",
              "        const buttonEl =\n",
              "          document.querySelector('#df-84a8d779-55af-4300-a8df-dfb8e3b04d43 button.colab-df-convert');\n",
              "        buttonEl.style.display =\n",
              "          google.colab.kernel.accessAllowed ? 'block' : 'none';\n",
              "\n",
              "        async function convertToInteractive(key) {\n",
              "          const element = document.querySelector('#df-84a8d779-55af-4300-a8df-dfb8e3b04d43');\n",
              "          const dataTable =\n",
              "            await google.colab.kernel.invokeFunction('convertToInteractive',\n",
              "                                                     [key], {});\n",
              "          if (!dataTable) return;\n",
              "\n",
              "          const docLinkHtml = 'Like what you see? Visit the ' +\n",
              "            '<a target=\"_blank\" href=https://colab.research.google.com/notebooks/data_table.ipynb>data table notebook</a>'\n",
              "            + ' to learn more about interactive tables.';\n",
              "          element.innerHTML = '';\n",
              "          dataTable['output_type'] = 'display_data';\n",
              "          await google.colab.output.renderOutput(dataTable, element);\n",
              "          const docLink = document.createElement('div');\n",
              "          docLink.innerHTML = docLinkHtml;\n",
              "          element.appendChild(docLink);\n",
              "        }\n",
              "      </script>\n",
              "    </div>\n",
              "  </div>\n",
              "  "
            ]
          },
          "metadata": {},
          "execution_count": 36
        }
      ],
      "source": [
        "# 7. How many unverified purchases have been flagged for each product category? What has been the rating given for such purchases on an average?\n",
        "\n",
        "unv_perch = df[df['verified_purchase']==\"N\"]\n",
        "unv_purch_grp = unv_perch.groupby('product_category')['verified_purchase','star_rating'].agg({'verified_purchase':'count', 'star_rating':'mean'})\n",
        "unv_purch_grp"
      ],
      "id": "XDYE5ix33hfl"
    },
    {
      "cell_type": "code",
      "source": [
        "df.columns"
      ],
      "metadata": {
        "colab": {
          "base_uri": "https://localhost:8080/"
        },
        "id": "7GS0rpwjAKya",
        "outputId": "2874aa97-5350-44f4-b11b-c9af6b62e130"
      },
      "id": "7GS0rpwjAKya",
      "execution_count": null,
      "outputs": [
        {
          "output_type": "execute_result",
          "data": {
            "text/plain": [
              "Index(['marketplace', 'customer_id', 'review_id', 'product_id',\n",
              "       'product_parent', 'product_title', 'product_category', 'star_rating',\n",
              "       'helpful_votes', 'total_votes', 'vine', 'verified_purchase',\n",
              "       'review_headline', 'review_body', 'review_date'],\n",
              "      dtype='object')"
            ]
          },
          "metadata": {},
          "execution_count": 27
        }
      ]
    },
    {
      "cell_type": "code",
      "execution_count": null,
      "metadata": {
        "colab": {
          "base_uri": "https://localhost:8080/",
          "height": 879
        },
        "id": "CAVfEBXZ3hfl",
        "outputId": "c8bbf186-8770-4c02-8ac5-415069f91bc4"
      },
      "outputs": [
        {
          "output_type": "execute_result",
          "data": {
            "text/plain": [
              "<Axes: xlabel='product_title'>"
            ]
          },
          "metadata": {},
          "execution_count": 37
        },
        {
          "output_type": "display_data",
          "data": {
            "text/plain": [
              "<Figure size 640x480 with 1 Axes>"
            ],
            "image/png": "[encoded data removed]"
          },
          "metadata": {}
        }
      ],
      "source": [
        "# 8. Visualize the top 20 most popular products as per the given data.\n",
        "\n",
        "popular_products = pd.DataFrame(df.groupby('product_title')['review_id'].count())\n",
        "most_popular = popular_products.sort_values('review_id', ascending=False)\n",
        "most_popular.head(20).plot(kind = \"bar\")"
      ],
      "id": "CAVfEBXZ3hfl"
    },
    {
      "cell_type": "code",
      "execution_count": null,
      "metadata": {
        "colab": {
          "base_uri": "https://localhost:8080/"
        },
        "id": "Mlzhg2p53hfl",
        "outputId": "18a6dd6b-54fd-4568-8fd1-82dcfd5c0b5e"
      },
      "outputs": [
        {
          "output_type": "stream",
          "name": "stdout",
          "text": [
            "['CCleaner Free [Download]']\n"
          ]
        }
      ],
      "source": [
        "# 9. Extract the product titles with the product parent ID-106182406.\n",
        "\n",
        "# Filter the dataframe based on the given product parent ID\n",
        "filtered_df = df[df['product_parent'] == 106182406]\n",
        "# Extract the product titles\n",
        "product_titles = filtered_df['product_title']\n",
        "# Print the product titles\n",
        "print(product_titles.unique())"
      ],
      "id": "Mlzhg2p53hfl"
    },
    {
      "cell_type": "code",
      "execution_count": null,
      "metadata": {
        "colab": {
          "base_uri": "https://localhost:8080/"
        },
        "id": "0YOUbmaC3hfm",
        "outputId": "b1819421-9008-46c6-f8bd-0854b5116582"
      },
      "outputs": [
        {
          "output_type": "stream",
          "name": "stdout",
          "text": [
            "341\n"
          ]
        }
      ],
      "source": [
        "# 10. How many product reviews were recorded on the date 2015-08-31?\n",
        "\n",
        "# Filter the dataframe based on the target date\n",
        "fil_df = df[df['review_date'] == '2015-08-31']\n",
        "print(len(fil_df))"
      ],
      "id": "0YOUbmaC3hfm"
    }
  ],
  "metadata": {
    "kernelspec": {
      "display_name": "Python 3",
      "language": "python",
      "name": "python3"
    },
    "language_info": {
      "codemirror_mode": {
        "name": "ipython",
        "version": 3
      },
      "file_extension": ".py",
      "mimetype": "text/x-python",
      "name": "python",
      "nbconvert_exporter": "python",
      "pygments_lexer": "ipython3",
      "version": "3.6.5"
    },
    "colab": {
      "provenance": []
    }
  },
  "nbformat": 4,
  "nbformat_minor": 5
}