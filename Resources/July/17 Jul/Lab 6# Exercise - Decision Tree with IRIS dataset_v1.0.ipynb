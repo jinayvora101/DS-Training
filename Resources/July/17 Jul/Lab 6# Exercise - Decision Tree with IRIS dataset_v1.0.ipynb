{
 "cells": [
  {
   "cell_type": "code",
   "execution_count": 11,
   "id": "170aa95d",
   "metadata": {},
   "outputs": [],
   "source": [
    "import warnings\n",
    "warnings.filterwarnings('ignore')"
   ]
  },
  {
   "cell_type": "code",
   "execution_count": 12,
   "id": "6c0b2e5b",
   "metadata": {},
   "outputs": [
    {
     "name": "stdout",
     "output_type": "stream",
     "text": [
      "Best parameter with Grid Search:  {'max_depth': 4}\n"
     ]
    }
   ],
   "source": [
    "import pandas as pd\n",
    "import numpy as np\n",
    "from sklearn.tree import DecisionTreeClassifier\n",
    "from sklearn.model_selection import train_test_split\n",
    "from sklearn.model_selection import GridSearchCV\n",
    "\n",
    "data = pd.read_csv(\"./iris_data.csv\")\n",
    "\n",
    "#print(irisData.head)\n",
    "data.features = data[[\"SepalLength\",\"SepalWidth\",\"PetalLength\",\"PetalWidth\"]]\n",
    "data.targets = data.Class \n",
    "\n",
    "#with grid search you can find an optimal parameter \"parameter tuning\"\n",
    "param_grid = {'max_depth': np.arange(1, 10)}\n",
    "\n",
    "#in every iteration data is splitted randomly in cross validation + DecisionTreeClassifier\n",
    "#initializes the tree randomly: thats why you get different results !!!\n",
    "tree = GridSearchCV(DecisionTreeClassifier(), param_grid)\n",
    "\n",
    "feature_train, feature_test, target_train, target_test = train_test_split(data.features, data.targets, test_size=.2)\n",
    "\n",
    "tree.fit(feature_train, target_train)\n",
    "tree_predictions = tree.predict_proba(feature_test)[:, 1]\n",
    "\n",
    "print(\"Best parameter with Grid Search: \", tree.best_params_)\n",
    "\n"
   ]
  },
  {
   "cell_type": "code",
   "execution_count": 15,
   "id": "482f1556",
   "metadata": {},
   "outputs": [
    {
     "name": "stdout",
     "output_type": "stream",
     "text": [
      "[[13  0  0]\n",
      " [ 0  6  1]\n",
      " [ 0  0 10]]\n",
      "0.9666666666666667\n"
     ]
    }
   ],
   "source": [
    "from sklearn.metrics import confusion_matrix\n",
    "from sklearn.metrics import accuracy_score\n",
    "#from sklearn.model_selection import train_test_split\n",
    "from sklearn.model_selection import train_test_split\n",
    "\n",
    "feature_train, feature_test, target_train, target_test = train_test_split(data.features, data.targets, test_size=.2)\n",
    "\n",
    "model = DecisionTreeClassifier(criterion='gini')\n",
    "model.fitted = model.fit(feature_train, target_train)\n",
    "model.predictions = model.fitted.predict(feature_test)\n",
    "\n",
    "print(confusion_matrix(target_test, model.predictions))\n",
    "print(accuracy_score(target_test, model.predictions))\n",
    "\n",
    "#predicted = model_selection.cross_val_predict(model,data.features,data.targets, cv=10)\n",
    "#print(accuracy_score(data.targets,predicted))"
   ]
  },
  {
   "cell_type": "code",
   "execution_count": null,
   "id": "2ffa73c5",
   "metadata": {},
   "outputs": [],
   "source": []
  }
 ],
 "metadata": {
  "kernelspec": {
   "display_name": "Python 3 (ipykernel)",
   "language": "python",
   "name": "python3"
  },
  "language_info": {
   "codemirror_mode": {
    "name": "ipython",
    "version": 3
   },
   "file_extension": ".py",
   "mimetype": "text/x-python",
   "name": "python",
   "nbconvert_exporter": "python",
   "pygments_lexer": "ipython3",
   "version": "3.9.7"
  }
 },
 "nbformat": 4,
 "nbformat_minor": 5
}
